{
 "cells": [
  {
   "cell_type": "code",
   "execution_count": 1,
   "id": "e317eebd",
   "metadata": {},
   "outputs": [],
   "source": [
    "import requests as rq\n",
    "import lxml.html as lx\n",
    "import pandas as pd\n",
    "import re"
   ]
  },
  {
   "cell_type": "code",
   "execution_count": 2,
   "id": "22d72969",
   "metadata": {},
   "outputs": [],
   "source": [
    "#read html + make df for general stats\n",
    "\n",
    "\n",
    "url = 'https://www.espn.com/nba/team/stats/_/name/sac/salary'\n",
    "names = pd.read_html(url)[0]\n",
    "stats = pd.read_html(url)[1]\n",
    "kings_stats = pd.concat([names,stats],axis = \"columns\")"
   ]
  },
  {
   "cell_type": "code",
   "execution_count": 3,
   "id": "3bd1eded",
   "metadata": {},
   "outputs": [],
   "source": [
    "# read html + make df for shooting stats\n",
    "\n",
    "\n",
    "shoot = pd.read_html(url)[3]\n",
    "kings_shoot_stats = pd.concat([names,shoot], axis = \"columns\")"
   ]
  },
  {
   "cell_type": "code",
   "execution_count": 4,
   "id": "d14639ff",
   "metadata": {},
   "outputs": [],
   "source": [
    "# clean up \"name\" and drop total from df\n",
    "\n",
    "\n",
    "words = []\n",
    "for i in kings_shoot_stats[\"Name\"]:\n",
    "    words.append(i.split()[0:2])\n",
    "words = pd.DataFrame(words)\n",
    "words.columns = [\"First\",\"Last\"]\n",
    "words[\"Names\"] = words['First']+\" \"+ words[\"Last\"]\n",
    "words = words.drop(\"First\", axis = 1).drop(\"Last\", axis = 1)\n",
    "kings_shoot_stats[\"Name\"] = words\n",
    "kings_shoot_stats = kings_shoot_stats.drop(16)"
   ]
  },
  {
   "cell_type": "code",
   "execution_count": 5,
   "id": "08fe51d3",
   "metadata": {},
   "outputs": [],
   "source": [
    "#create salary df\n",
    "url2 = \"https://www.espn.com/nba/team/roster/_/name/sac/salary\"\n",
    "kings_salary_raw = pd.read_html(url2)[0]"
   ]
  },
  {
   "cell_type": "code",
   "execution_count": 6,
   "id": "1b4a5c58",
   "metadata": {},
   "outputs": [
    {
     "name": "stderr",
     "output_type": "stream",
     "text": [
      "C:\\Users\\Jonathan\\AppData\\Local\\Temp\\ipykernel_16720\\3064642318.py:4: SettingWithCopyWarning: \n",
      "A value is trying to be set on a copy of a slice from a DataFrame\n",
      "\n",
      "See the caveats in the documentation: https://pandas.pydata.org/pandas-docs/stable/user_guide/indexing.html#returning-a-view-versus-a-copy\n",
      "  kings_salary_raw[\"Name\"][i] = re.sub(r\"\\d+\", \"\", str(kings_salary_raw[\"Name\"][i]))\n"
     ]
    }
   ],
   "source": [
    "#Strips player number from each players name\n",
    "\n",
    "for i in range(0,len(kings_salary_raw)):\n",
    "    kings_salary_raw[\"Name\"][i] = re.sub(r\"\\d+\", \"\", str(kings_salary_raw[\"Name\"][i]))\n"
   ]
  },
  {
   "cell_type": "code",
   "execution_count": 7,
   "id": "7c74e758",
   "metadata": {},
   "outputs": [],
   "source": [
    "#Cleans dataframe to only player name + salary\n",
    "kings_salary = kings_salary_raw.set_index(\"Name\").drop('Unnamed: 0', axis = 1)\n",
    "kings_salary.columns\n",
    "kings_salary = kings_salary.drop(['POS', 'Age', 'HT', 'WT', 'College'], axis = 1)"
   ]
  },
  {
   "cell_type": "code",
   "execution_count": 18,
   "id": "5e23dac9",
   "metadata": {},
   "outputs": [],
   "source": [
    "#combine dfs. final kings 2022 df\n",
    "\n",
    "\n",
    "kings_stats_22 = kings_shoot_stats.join(kings_salary, on = \"Name\")"
   ]
  },
  {
   "cell_type": "code",
   "execution_count": 9,
   "id": "d94ae1d6",
   "metadata": {},
   "outputs": [
    {
     "data": {
      "text/plain": [
       "{'tab_2018': <pandas.io.formats.style.Styler at 0x1d844a48cd0>,\n",
       " 'tab_2019': <pandas.io.formats.style.Styler at 0x1d846512a60>,\n",
       " 'tab_2020': <pandas.io.formats.style.Styler at 0x1d844dba700>,\n",
       " 'tab_2021': <pandas.io.formats.style.Styler at 0x1d846b4cc40>,\n",
       " 'tab_2022': <pandas.io.formats.style.Styler at 0x1d844de5640>}"
      ]
     },
     "execution_count": 9,
     "metadata": {},
     "output_type": "execute_result"
    }
   ],
   "source": [
    "#create dict for 2018-2023 team stats\n",
    "\n",
    "\n",
    "from time import sleep\n",
    "\n",
    "\n",
    "\n",
    "tab = pd.DataFrame()\n",
    "#Empty dictionary\n",
    "tab_dict = {}\n",
    "#Fetches data from 2018-2019 to 2022-2023 seasons\n",
    "for i in range(2019, 2024):\n",
    "    #Changes the url for each season\n",
    "    url_loop = \"https://www.espn.com/nba/stats/team/_/season/\"+str(i)+\"/seasontype/2\"\n",
    "    sleep(.02)\n",
    "    #Gets dataframe with only team names\n",
    "    team_names = pd.read_html(url_loop)[0]\n",
    "    #Gets dataframe with all corresponding team stats\n",
    "    team_stats = pd.read_html(url_loop)[1]\n",
    "    #Concatenates the two above data frames\n",
    "    tab = pd.concat([team_names,team_stats],axis = \"columns\")\n",
    "    #Labels dataframe by year\n",
    "    tab = tab.style.set_caption(str(i-1)+\"-\"+str(i))\n",
    "    name = \"tab_\"+str(i-1)\n",
    "    #Adds to dictionary with 'tab20xx' as key and the corresponding dataframe as the value\n",
    "    tab_dict[name] = tab\n",
    "\n",
    "tab_dict"
   ]
  },
  {
   "cell_type": "code",
   "execution_count": 16,
   "id": "aec901a8",
   "metadata": {},
   "outputs": [
    {
     "data": {
      "text/plain": [
       "{'tab_op_2018': <pandas.io.formats.style.Styler at 0x1d846528df0>,\n",
       " 'tab_op_2019': <pandas.io.formats.style.Styler at 0x1d846cb8070>,\n",
       " 'tab_op_2020': <pandas.io.formats.style.Styler at 0x1d846f126d0>,\n",
       " 'tab_op_2021': <pandas.io.formats.style.Styler at 0x1d844732f40>,\n",
       " 'tab_op_2022': <pandas.io.formats.style.Styler at 0x1d846e78c40>}"
      ]
     },
     "execution_count": 16,
     "metadata": {},
     "output_type": "execute_result"
    }
   ],
   "source": [
    "#create dict for 2018-2023 opponent team stats\n",
    "\n",
    "\n",
    "from time import sleep\n",
    "\n",
    "\n",
    "\n",
    "tab = pd.DataFrame()\n",
    "#Empty dictionary\n",
    "tab_dict_op = {}\n",
    "#Fetches data from 2018-2019 to 2022-2023 seasons\n",
    "for i in range(2019, 2024):\n",
    "    #Changes the url for each season\n",
    "    url_loop_op = \"https://www.espn.com/nba/stats/team/_/view/opponent/season/\"+str(i)+\"/seasontype/2\"\n",
    "    sleep(.02)\n",
    "    #Gets dataframe with only team names\n",
    "    team_names = pd.read_html(url_loop_op)[0]\n",
    "    #Gets dataframe with all corresponding team stats\n",
    "    team_stats = pd.read_html(url_loop_op)[1]\n",
    "    #Concatenates the two above data frames\n",
    "    tab = pd.concat([team_names,team_stats],axis = \"columns\")\n",
    "    #Labels dataframe by year\n",
    "    tab = tab.style.set_caption(str(i-1)+\"-\"+str(i))\n",
    "    name = \"tab_op_\"+str(i-1)\n",
    "    #Adds to dictionary with 'tab20xx' as key and the corresponding dataframe as the value\n",
    "    tab_dict_op[name] = tab\n",
    "\n",
    "tab_dict_op"
   ]
  },
  {
   "cell_type": "code",
   "execution_count": 11,
   "id": "6a7d68f5",
   "metadata": {},
   "outputs": [
    {
     "data": {
      "text/plain": [
       "{'tab_op_2018': <pandas.io.formats.style.Styler at 0x1d844914df0>,\n",
       " 'tab_op_2019': <pandas.io.formats.style.Styler at 0x1d846bd0940>,\n",
       " 'tab_op_2020': <pandas.io.formats.style.Styler at 0x1d8421fb5b0>,\n",
       " 'tab_op_2021': <pandas.io.formats.style.Styler at 0x1d846c243d0>,\n",
       " 'tab_op_2022': <pandas.io.formats.style.Styler at 0x1d844a42cd0>}"
      ]
     },
     "execution_count": 11,
     "metadata": {},
     "output_type": "execute_result"
    }
   ],
   "source": [
    "#Dataframes available:\n",
    "kings_stats\n",
    "kings_shoot_stats\n",
    "kings_salary\n",
    "tab_dict #tab_dict['tab2019]...tab_dict['tab2022']\n",
    "tab_dict_op"
   ]
  }
 ],
 "metadata": {
  "kernelspec": {
   "display_name": "Python 3 (ipykernel)",
   "language": "python",
   "name": "python3"
  },
  "language_info": {
   "codemirror_mode": {
    "name": "ipython",
    "version": 3
   },
   "file_extension": ".py",
   "mimetype": "text/x-python",
   "name": "python",
   "nbconvert_exporter": "python",
   "pygments_lexer": "ipython3",
   "version": "3.9.12"
  }
 },
 "nbformat": 4,
 "nbformat_minor": 5
}

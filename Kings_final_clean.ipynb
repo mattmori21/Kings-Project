{
 "cells": [
  {
   "cell_type": "code",
   "execution_count": null,
   "id": "e317eebd",
   "metadata": {},
   "outputs": [],
   "source": [
    "import requests as rq\n",
    "import lxml.html as lx\n",
    "import pandas as pd\n",
    "import re\n",
    "import matplotlib.pyplot as plt\n",
    "import numpy as np\n",
    "from statistics import mean\n",
    "import math\n",
    "\n",
    "\n",
    "\n"
   ]
  },
  {
   "cell_type": "markdown",
   "id": "c7c007f8",
   "metadata": {},
   "source": [
    "## Obtain Kings Players Stats + Salary"
   ]
  },
  {
   "cell_type": "code",
   "execution_count": null,
   "id": "22d72969",
   "metadata": {},
   "outputs": [],
   "source": [
    "#read html + make df for general stats\n",
    "url = 'https://www.espn.com/nba/team/stats/_/name/sac/salary'\n",
    "names = pd.read_html(url)[0]\n",
    "stats = pd.read_html(url)[1]\n",
    "kings_stats_temp = pd.concat([names,stats],axis = \"columns\")\n",
    "kings_stats_temp"
   ]
  },
  {
   "cell_type": "code",
   "execution_count": null,
   "id": "8422c284",
   "metadata": {},
   "outputs": [],
   "source": [
    "def remove_positions(df):\n",
    "    '''Removes The position indicator after each player's name (i.e. PG, PF, SG), also drops the \"Total\" row as it's not needed.'''\n",
    "    words = []\n",
    "    for i in df[\"Name\"]:\n",
    "        words.append(i.split()[0:2])\n",
    "    words = pd.DataFrame(words)\n",
    "    words.columns = [\"First\",\"Last\"]\n",
    "    words[\"Names\"] = words['First']+\" \"+ words[\"Last\"]\n",
    "    words = words.drop(\"First\", axis = 1).drop(\"Last\", axis = 1)\n",
    "    df[\"Name\"] = words\n",
    "    #df = df.drop(16)\n",
    "    df = df.dropna().reset_index().drop(\"index\", axis = \"columns\")\n",
    "    return df\n",
    "\n",
    "kings_stats = remove_positions(kings_stats_temp)\n",
    "kings_stats"
   ]
  },
  {
   "cell_type": "code",
   "execution_count": null,
   "id": "3bd1eded",
   "metadata": {},
   "outputs": [],
   "source": [
    "# read html + make df for shooting stats\n",
    "shoot = pd.read_html(url)[3]\n",
    "kings_shoot_stats_temp = pd.concat([names,shoot], axis = \"columns\")"
   ]
  },
  {
   "cell_type": "code",
   "execution_count": null,
   "id": "d14639ff",
   "metadata": {},
   "outputs": [],
   "source": [
    "kings_shoot_stats = remove_positions(kings_shoot_stats_temp)\n",
    "kings_shoot_stats"
   ]
  },
  {
   "cell_type": "code",
   "execution_count": null,
   "id": "08fe51d3",
   "metadata": {},
   "outputs": [],
   "source": [
    "#create salary df\n",
    "url2 = \"https://www.espn.com/nba/team/roster/_/name/sac/salary\"\n",
    "kings_salary_raw = pd.read_html(url2)[0]"
   ]
  },
  {
   "cell_type": "code",
   "execution_count": null,
   "id": "1b4a5c58",
   "metadata": {},
   "outputs": [],
   "source": [
    "#Strips player number from each players name\n",
    "for i in range(0,len(kings_salary_raw)):\n",
    "    kings_salary_raw[\"Name\"][i] = re.sub(r\"\\d+\", \"\", str(kings_salary_raw[\"Name\"][i]))"
   ]
  },
  {
   "cell_type": "code",
   "execution_count": null,
   "id": "7c74e758",
   "metadata": {},
   "outputs": [],
   "source": [
    "#Cleans dataframe to only player name + salary\n",
    "kings_salary = kings_salary_raw.set_index(\"Name\").drop('Unnamed: 0', axis = 1)\n",
    "kings_salary.columns\n",
    "kings_salary = kings_salary.drop(['POS', 'Age', 'HT', 'WT', 'College'], axis = 1)\n",
    "kings_salary"
   ]
  },
  {
   "cell_type": "code",
   "execution_count": null,
   "id": "40259c1e",
   "metadata": {},
   "outputs": [],
   "source": [
    "#combine player stats df and salary df as kings_stats_salary. \n",
    "pd.set_option('display.max_columns', None)\n",
    "kings_stats_salary = kings_stats.join(kings_salary, on = \"Name\")\n",
    "kings_stats_salary"
   ]
  },
  {
   "cell_type": "code",
   "execution_count": null,
   "id": "1c5f4825",
   "metadata": {},
   "outputs": [],
   "source": [
    "#combine kings shooting stats df with \"kings_stats_salary\".\n",
    "kings_player_shooting_salary = pd.merge(kings_stats_salary,kings_shoot_stats, how = \"left\", on = \"Name\")\n",
    "kings_player_shooting_salary"
   ]
  },
  {
   "cell_type": "code",
   "execution_count": null,
   "id": "514082bc",
   "metadata": {},
   "outputs": [],
   "source": [
    "#Rearrange salary to column to go at the end.\n",
    "salary = kings_player_shooting_salary.pop(\"Salary\")\n",
    "kings_final_df = pd.concat([kings_player_shooting_salary, salary], axis = 'columns')\n",
    "kings_final_df"
   ]
  },
  {
   "cell_type": "markdown",
   "id": "c656014e",
   "metadata": {},
   "source": [
    "## Obtain NBA Team Stats"
   ]
  },
  {
   "cell_type": "code",
   "execution_count": null,
   "id": "67285418",
   "metadata": {},
   "outputs": [],
   "source": [
    "nbateamstats = pd.DataFrame()\n",
    "for i in range(2023,2018, -1):\n",
    "    tempurl = \"https://www.espn.com/nba/stats/team/_/view/opponent/season/\"+str(i)+\"/seasontype/2\"\n",
    "    team_names = pd.read_html(tempurl)[0]\n",
    "    team_stats = pd.read_html(tempurl)[1]\n",
    "    team_stats\n",
    "    team_concat = pd.concat([team_names,team_stats],axis = \"columns\")\n",
    "    team_concat['Team'] = str(i) + \" \" + team_concat['Team'].astype(str)\n",
    "    nbateamstats = pd.concat([nbateamstats, team_concat], ignore_index = True)\n",
    "nbateamstats"
   ]
  },
  {
   "cell_type": "code",
   "execution_count": null,
   "id": "f4e41774",
   "metadata": {},
   "outputs": [],
   "source": [
    "nbateams = pd.read_html(\"https://www.espn.com/nba/stats/team/_/view/opponent/season/2023/seasontype/2\")[0][\"Team\"]\n",
    "nbateams"
   ]
  },
  {
   "cell_type": "code",
   "execution_count": null,
   "id": "6894ee84",
   "metadata": {
    "scrolled": true
   },
   "outputs": [],
   "source": [
    "def clean_teams(team, stats):\n",
    "    #Function fixes errors caused by read_html function. Makes the \"row header\" back into the first row\n",
    "    team1 = team.columns[0] \n",
    "    team.columns = [\"Team\"]\n",
    "    new_row = pd.DataFrame({team.columns[0]:team1}, index=[0])\n",
    "    team = pd.concat([new_row,team.loc[:]]).reset_index(drop=True)\n",
    "    #Standardizes NBA team names across dataframes to allow easy joining between them\n",
    "    for i in range(0, len(team.iloc[:,0])):\n",
    "        for teamname in nbateams:\n",
    "            if team.iloc[:,0][i].__contains__(teamname):\n",
    "                team.iloc[:,0][i] = teamname\n",
    "                break\n",
    "            else:\n",
    "                continue\n",
    "    result = team.join(stats.iloc[:,0:2])\n",
    "    return(result)\n",
    "    \n",
    "def add_playoff_status(df, year):\n",
    "    #df input: conference standings (15 teams) ranked in order by wins\n",
    "    #creates new variable that shows if a certain team made the playoffs \n",
    "    #2023 is the current season and the playoffs have not happened yet, therefore NaN\n",
    "    if year == 2023:\n",
    "        df[\"Made Playoffs\"] = math.nan\n",
    "        return(df)\n",
    "    df[\"Made Playoffs\"] = int(0)\n",
    "    #2019-20 top 8 teams per conference made playoffs\n",
    "    if year in [2019, 2020]:\n",
    "        for index in df.index:\n",
    "            if index < 8:\n",
    "                df.iloc[index,3] = int(1)\n",
    "    #2021-22 top 10 teams per conference made playoffs\n",
    "    else:\n",
    "        for index in df.index:\n",
    "            if index < 10:\n",
    "                df.iloc[index,3] = int(1)\n",
    "    return(df)\n",
    "\n",
    "\n",
    "league_wins_losses = pd.DataFrame()\n",
    "for i in range(2023,2018, -1):\n",
    "    urlstandings = \"https://www.espn.com/nba/standings/_/season/\"+ str(i)\n",
    "    teams_east = pd.read_html(urlstandings)[0]\n",
    "    stats_east = pd.read_html(urlstandings)[1]\n",
    "    teams_west = pd.read_html(urlstandings)[2]\n",
    "    stats_west = pd.read_html(urlstandings)[3]\n",
    "    teams_east = clean_teams(teams_east, stats_east)\n",
    "    teams_east = add_playoff_status(teams_east, i)\n",
    "    teams_west = clean_teams(teams_west, stats_west)\n",
    "    teams_west = add_playoff_status(teams_west, i)\n",
    "    df_win_loss = pd.concat([teams_east, teams_west], ignore_index = True)\n",
    "    df_win_loss['Team'] = str(i) + \" \" + df_win_loss['Team'].astype(str)\n",
    "    league_wins_losses = pd.concat([league_wins_losses, df_win_loss], ignore_index = True)\n",
    "league_wins_losses\n",
    "    "
   ]
  },
  {
   "cell_type": "code",
   "execution_count": null,
   "id": "caa76609",
   "metadata": {},
   "outputs": [],
   "source": [
    "league_wins_losses.dtypes"
   ]
  },
  {
   "cell_type": "code",
   "execution_count": null,
   "id": "1a720cef",
   "metadata": {},
   "outputs": [],
   "source": [
    "fullnbastats = pd.merge(league_wins_losses, nbateamstats, on=\"Team\")\n",
    "fullnbastats = fullnbastats.drop(['RK'], axis=1)\n",
    "fullnbastats"
   ]
  },
  {
   "cell_type": "code",
   "execution_count": null,
   "id": "a8b74b2d",
   "metadata": {},
   "outputs": [],
   "source": [
    "nbaefficiencystats = pd.DataFrame()\n",
    "for year in range(2023,2018, -1):\n",
    "    efficiencyurl = \"http://www.espn.com/nba/hollinger/teamstats/_/sort/defensiveEff/year/\"+ str(year)\n",
    "    efficiencystats = pd.read_html(efficiencyurl)[0].iloc[1: , 1:]\n",
    "    efficiencystats = pd.DataFrame(efficiencystats.values[1:], columns=efficiencystats.iloc[0])\n",
    "    for i in range(0, len(efficiencystats.iloc[:,0])):\n",
    "        for teamname in nbateams:\n",
    "            if efficiencystats.iloc[:,0][i] == \"LA Lakers\":\n",
    "                efficiencystats.iloc[:,0][i] = \"Los Angeles Lakers\"\n",
    "                break\n",
    "            if efficiencystats.iloc[:,0][i] in teamname:\n",
    "                efficiencystats.iloc[:,0][i] = teamname\n",
    "                break\n",
    "            else:\n",
    "                continue\n",
    "    efficiencystats = efficiencystats.rename(columns = {\"TEAM\": \"Team\"})\n",
    "    efficiencystats['Team'] = str(year) + \" \" + efficiencystats['Team'].astype(str)\n",
    "    efficiencystats = efficiencystats[[\"Team\", \"PACE\", \"EFF FG%\", \"OFF EFF\", \"DEF EFF\"]]\n",
    "    nbaefficiencystats = pd.concat([nbaefficiencystats, efficiencystats], ignore_index = True)\n",
    "nbaefficiencystats"
   ]
  },
  {
   "cell_type": "code",
   "execution_count": null,
   "id": "2acabed8",
   "metadata": {},
   "outputs": [],
   "source": [
    "fullnbastats = pd.merge(fullnbastats, nbaefficiencystats, on=\"Team\")\n",
    "fullnbastats"
   ]
  },
  {
   "cell_type": "code",
   "execution_count": null,
   "id": "9ef26558",
   "metadata": {},
   "outputs": [],
   "source": [
    "playoffstat = fullnbastats.pop(\"Made Playoffs\")\n",
    "fullnbastats[\"Made Playoffs\"] = playoffstat\n",
    "fullnbastats"
   ]
  },
  {
   "cell_type": "code",
   "execution_count": null,
   "id": "4d0b38dd",
   "metadata": {},
   "outputs": [],
   "source": [
    "fullnbastats[\"PACE\"] = fullnbastats[\"PACE\"].astype(float)\n",
    "fullnbastats[\"EFF FG%\"] = fullnbastats[\"EFF FG%\"].astype(float)\n",
    "fullnbastats[\"OFF EFF\"] = fullnbastats[\"OFF EFF\"].astype(float)\n",
    "fullnbastats[\"DEF EFF\"] = fullnbastats[\"DEF EFF\"].astype(float)\n",
    "kingsfullstats_5years = fullnbastats[fullnbastats['Team'].str.contains('Kings')]\n",
    "kingsindex = fullnbastats[fullnbastats['Team'] == '2023 Sacramento Kings'].index"
   ]
  },
  {
   "cell_type": "markdown",
   "id": "c04acb9c",
   "metadata": {},
   "source": [
    "## Plotting NBA Comparisons"
   ]
  },
  {
   "cell_type": "code",
   "execution_count": null,
   "id": "1c0194ce",
   "metadata": {},
   "outputs": [],
   "source": [
    "def comparison_plot(df, index1, index2, xloc, yloc):\n",
    "    groups = df.groupby(\"Made Playoffs\")\n",
    "    plt.figure(figsize=(10, 10))\n",
    "    for name, group in groups:\n",
    "        if name == 0:\n",
    "            name = \"Did Not Make Playoffs\"\n",
    "            playoffcolor = 'crimson'\n",
    "        else:\n",
    "            name = \"Made Playoffs\"\n",
    "            playoffcolor = 'royalblue'\n",
    "        plt.plot(group.iloc[:,index1], group.iloc[:,index2], marker=\".\", linestyle=\"\", label=name, color = playoffcolor)\n",
    "    plt.legend()\n",
    "    plt.plot(kingsfullstats_5years.iloc[:,index1], kingsfullstats_5years.iloc[:,index2], linestyle='none', marker = 'o', color ='darkorchid')\n",
    "    plt.annotate('Sacramento Kings 2022-23', \n",
    "             xy=(df.iloc[kingsindex,index1], df.iloc[kingsindex,index2]), \n",
    "             xytext=(df.iloc[kingsindex,index1] + xloc, df.iloc[kingsindex,index2] + yloc),\n",
    "             arrowprops=dict(facecolor='black', shrink=0.05))\n",
    "    plt.axvline(mean(fullnbastats.iloc[:,index1]), color='k', linestyle='dashed')\n",
    "    plt.axhline(mean(fullnbastats.iloc[:,index2]), color='k', linestyle='dashed')\n",
    "    \n",
    "comparison_plot(fullnbastats, fullnbastats.columns.get_loc(\"OFF EFF\"), fullnbastats.columns.get_loc(\"DEF EFF\"), -0.5, 1.5)\n",
    "plt.xlabel(\"Offensive Efficiency (Pts Scored/100 Poss)\")\n",
    "plt.ylabel(\"Defensive Efficiency (Pts Allowed/100 Poss)\")\n",
    "plt.title(\"Offensive vs Defensive Efficiency in NBA 2018-2023\")\n",
    "plt.show()"
   ]
  },
  {
   "cell_type": "code",
   "execution_count": null,
   "id": "d5ed8023",
   "metadata": {},
   "outputs": [],
   "source": [
    "comparison_plot(fullnbastats, fullnbastats.columns.get_loc(\"AST\"), fullnbastats.columns.get_loc(\"TO\"), -2, 1.5)\n",
    "plt.xlabel(\"Assists Per Game\")\n",
    "plt.ylabel(\"Turnovers Per Game\")\n",
    "plt.title(\"Assists vs Turnovers in NBA 2018-2023\")\n",
    "plt.show()"
   ]
  },
  {
   "cell_type": "code",
   "execution_count": null,
   "id": "a1f2a8cd",
   "metadata": {},
   "outputs": [],
   "source": [
    "comparison_plot(fullnbastats, fullnbastats.columns.get_loc(\"OR\"), fullnbastats.columns.get_loc(\"DR\"), 0, -0.75)\n",
    "plt.xlabel(\"Offensive Rebounds Per Game\")\n",
    "plt.ylabel(\"Defensive Rebounds Per Game\")\n",
    "plt.title(\"Offensive vs Defensive Rebounds in NBA 2018-2023\")\n",
    "plt.show()"
   ]
  },
  {
   "cell_type": "code",
   "execution_count": null,
   "id": "570d5698",
   "metadata": {},
   "outputs": [],
   "source": [
    "comparison_plot(fullnbastats, fullnbastats.columns.get_loc(\"EFF FG%\"), fullnbastats.columns.get_loc(\"PACE\"), -2.25, 1)\n",
    "plt.xlabel(\"Effective Field Goal Percentage Per Game\")\n",
    "plt.ylabel(\"Pace Per Game\")\n",
    "plt.title(\"Effective Field Goal Percentage vs Pace in NBA 2018-2023\")\n",
    "plt.show()"
   ]
  },
  {
   "cell_type": "markdown",
   "id": "4eea2c82",
   "metadata": {},
   "source": [
    "## Logistic Regression: Multicollinearity"
   ]
  },
  {
   "cell_type": "code",
   "execution_count": null,
   "id": "494a47f2",
   "metadata": {},
   "outputs": [],
   "source": [
    "import matplotlib.pyplot as plt\n",
    "import numpy as np\n",
    "from sklearn.linear_model import LogisticRegression\n",
    "from sklearn.metrics import classification_report, confusion_matrix\n",
    "from sklearn.model_selection import train_test_split"
   ]
  },
  {
   "cell_type": "code",
   "execution_count": null,
   "id": "105d5b48",
   "metadata": {},
   "outputs": [],
   "source": [
    "x = fullnbastats[30:].drop(columns = ['Made Playoffs', 'Team', 'GP'])\n",
    "from statsmodels.stats.outliers_influence import variance_inflation_factor\n",
    "vif = pd.DataFrame()\n",
    "vif[\"VIF Factor\"] = [variance_inflation_factor(x.values, i) for i in range(x.shape[1])]\n",
    "vif[\"features\"] = x.columns\n",
    "vif.round(1)"
   ]
  },
  {
   "cell_type": "markdown",
   "id": "6352ccb1",
   "metadata": {},
   "source": [
    "## Logistic Regression: Standardization"
   ]
  },
  {
   "cell_type": "code",
   "execution_count": null,
   "id": "b672e1dd",
   "metadata": {},
   "outputs": [],
   "source": [
    "import matplotlib.pyplot as plt\n",
    "import numpy as np\n",
    "from sklearn.linear_model import LogisticRegression\n",
    "from sklearn.metrics import classification_report, confusion_matrix\n",
    "from sklearn.model_selection import train_test_split\n",
    "\n",
    "\n",
    "x = fullnbastats[30:].drop(columns = ['Made Playoffs', 'Team'])\n",
    "colnames = x.columns\n",
    "y= fullnbastats[\"Made Playoffs\"][30:]"
   ]
  },
  {
   "cell_type": "code",
   "execution_count": null,
   "id": "4520bb8f",
   "metadata": {},
   "outputs": [],
   "source": [
    "from sklearn import preprocessing\n",
    "x = pd.DataFrame(preprocessing.scale(x))\n",
    "x.columns = colnames"
   ]
  },
  {
   "cell_type": "code",
   "execution_count": null,
   "id": "5970a125",
   "metadata": {},
   "outputs": [],
   "source": [
    "standardizeddata = fullnbastats.drop(columns = ['Made Playoffs', 'Team'])\n",
    "colnames = standardizeddata.columns\n",
    "standardizeddata = pd.DataFrame(preprocessing.scale(standardizeddata))\n",
    "standardizeddata.columns = colnames\n",
    "x = standardizeddata[30:]\n",
    "x = x.drop(columns = ['GP', 'FGM', 'FGA', 'FTM', 'FTA', '3PM', '3PA', 'REB', 'PACE', 'OFF EFF', 'DEF EFF'])\n",
    "from statsmodels.stats.outliers_influence import variance_inflation_factor\n",
    "vif = pd.DataFrame()\n",
    "vif[\"VIF Factor\"] = [variance_inflation_factor(x.values, i) for i in range(x.shape[1])]\n",
    "vif[\"features\"] = x.columns\n",
    "vif.round(1)"
   ]
  },
  {
   "cell_type": "code",
   "execution_count": null,
   "id": "fc1c509c",
   "metadata": {},
   "outputs": [],
   "source": [
    "x_train, x_test, y_train, y_test = train_test_split(x, y, test_size=0.2, random_state=42)"
   ]
  },
  {
   "cell_type": "code",
   "execution_count": null,
   "id": "f6ad4f76",
   "metadata": {},
   "outputs": [],
   "source": [
    "model = LogisticRegression(solver='liblinear', C = 10, random_state=0, max_iter = 1000)\n",
    "model.fit(x_train, y_train)\n",
    "model.classes_\n",
    "model.intercept_\n",
    "model.coef_\n",
    "model.predict_proba(x_test)\n",
    "model.predict(x_test)\n",
    "model.score(x_test, y_test)"
   ]
  },
  {
   "cell_type": "code",
   "execution_count": null,
   "id": "0196f558",
   "metadata": {},
   "outputs": [],
   "source": [
    "import seaborn as sn\n",
    "import pandas as pd\n",
    "import matplotlib.pyplot as plt\n",
    "cm = confusion_matrix(y_test, model.predict(x_test))\n",
    "df_cm = pd.DataFrame(cm, ['No Playoffs', 'Playoffs'], ['Predicted No Playoffs', 'Predicted Playoffs'])\n",
    "plt.figure(figsize=(8,8))\n",
    "sn.set(font_scale=1.4) # for label size\n",
    "sn.heatmap(df_cm, annot=True, annot_kws={\"size\": 16}) # font size\n",
    "plt.show()"
   ]
  },
  {
   "cell_type": "code",
   "execution_count": null,
   "id": "0e44b44c",
   "metadata": {},
   "outputs": [],
   "source": [
    "kingsfullnbastats23 = standardizeddata.iloc[kingsindex,:].drop(columns = ['GP', 'FGM', 'FGA', 'FTM', 'FTA', '3PM', '3PA', 'REB', 'PACE', 'OFF EFF', 'DEF EFF'])\n",
    "print(model.predict_proba(kingsfullnbastats23))\n",
    "print(model.predict(kingsfullnbastats23))"
   ]
  },
  {
   "cell_type": "code",
   "execution_count": null,
   "id": "6a7d68f5",
   "metadata": {},
   "outputs": [],
   "source": [
    "#Dataframes available:\n",
    "kings_stats\n",
    "kings_shoot_stats\n",
    "kings_salary\n",
    "nbateams\n",
    "kings_final_df\n",
    "league_wins_losses\n",
    "nbateamstats\n",
    "nbaefficiencystats\n",
    "pd.set_option('display.max_columns', None)\n",
    "fullnbastats"
   ]
  },
  {
   "cell_type": "code",
   "execution_count": null,
   "id": "63f7ac3e",
   "metadata": {},
   "outputs": [],
   "source": [
    "import pandas as pd\n",
    "import numpy as np\n",
    "import re\n",
    "import requests\n",
    "from bs4 import BeautifulSoup\n",
    "#pd.set_option('display.max_columns', None)\n",
    "#pd.set_option('display.max_rows', None)"
   ]
  },
  {
   "cell_type": "code",
   "execution_count": null,
   "id": "6970a60d",
   "metadata": {},
   "outputs": [],
   "source": [
    "#aquring links in raw form\n",
    "url = \"https://www.espn.com/nba/teams\"\n",
    "result = requests.get(url)\n",
    "soup = BeautifulSoup(result.text, 'html.parser')\n",
    "links = [str(link.get('href')) for link in soup.find_all(\"a\")]\n",
    "links_df = pd.DataFrame(links)\n",
    "links_df.columns = [\"links\"]\n",
    "pattern = re.compile(r'/nba/team/stats/_/name/+')\n",
    "stats_links_df = links_df[links_df['links'].str.contains(pattern, regex = True)]\n",
    "print(links_df)\n",
    "stats_links_df"
   ]
  },
  {
   "cell_type": "code",
   "execution_count": null,
   "id": "90b4ac64",
   "metadata": {
    "scrolled": false
   },
   "outputs": [],
   "source": [
    "stats_links_df = stats_links_df.reset_index().drop(\"index\", axis = \"columns\")\n",
    "west_conference = pd.concat([stats_links_df.iloc[10:20,:],stats_links_df.iloc[25:,:]])\n",
    "west_conference_stats_links = west_conference.reset_index().drop(\"index\", axis = \"columns\")\n",
    "#links to team stats that are only in the western conference\n",
    "west_conference_stats_links"
   ]
  },
  {
   "cell_type": "code",
   "execution_count": null,
   "id": "8329f2c2",
   "metadata": {},
   "outputs": [],
   "source": [
    "#Removing kings from links\n",
    "west_conference_stats_links = west_conference_stats_links.drop(9, axis = \"rows\").reset_index().drop(\"index\",axis = \"columns\")"
   ]
  },
  {
   "cell_type": "code",
   "execution_count": null,
   "id": "359370ee",
   "metadata": {},
   "outputs": [],
   "source": [
    "#acquire raw data\n",
    "players_df = pd.DataFrame()\n",
    "for link in west_conference_stats_links[\"links\"]:\n",
    "    url = \"https://www.espn.com\"+link\n",
    "    player_names = pd.read_html(url)[0]\n",
    "    player_stats = pd.read_html(url)[1]\n",
    "    player_concat = pd.concat([player_names,player_stats],axis = \"columns\")\n",
    "    players_df = pd.concat([players_df, player_concat], ignore_index = True)\n",
    "\n",
    "#Change this to \"remove_positions(players_df) when notebooks are combined\"\n",
    "words = []\n",
    "for i in players_df[\"Name\"]:\n",
    "    words.append(i.split()[0:2])\n",
    "words = pd.DataFrame(words)\n",
    "words.columns = [\"First\",\"Last\"]\n",
    "words[\"Names\"] = words['First']+\" \"+ words[\"Last\"]\n",
    "words = words.drop(\"First\", axis = 1).drop(\"Last\", axis = 1)\n",
    "players_df[\"Name\"] = words\n",
    "players_df = players_df.dropna().reset_index().drop(\"index\", axis = \"columns\")\n",
    "#Cleaned up dataframe with all player stats in western conference\n",
    "pd.set_option('display.max_rows', None)\n",
    "players_df\n"
   ]
  },
  {
   "cell_type": "code",
   "execution_count": null,
   "id": "5c984123",
   "metadata": {},
   "outputs": [],
   "source": [
    "players_df_shoot = pd.DataFrame()\n",
    "for link in west_conference_stats_links[\"links\"]:\n",
    "    url = \"https://www.espn.com\"+link\n",
    "    player_names = pd.read_html(url)[0]\n",
    "    player_shoot = pd.read_html(url)[3]\n",
    "    player_concat = pd.concat([player_names,player_shoot],axis = \"columns\")\n",
    "    \n",
    "    players_df_shoot = pd.concat([players_df_shoot, player_concat], ignore_index = True)\n",
    "\n",
    "#Change this to \"remove_positions(players_df_shoot) when notebooks are combined\"\n",
    "words = []\n",
    "for i in players_df_shoot[\"Name\"]:\n",
    "    words.append(i.split()[0:2])\n",
    "words = pd.DataFrame(words)\n",
    "words.columns = [\"First\",\"Last\"]\n",
    "words[\"Names\"] = words['First']+\" \"+ words[\"Last\"]\n",
    "words = words.drop(\"First\", axis = 1).drop(\"Last\", axis = 1)\n",
    "players_df_shoot[\"Name\"] = words\n",
    "players_df_shoot = players_df_shoot.dropna().reset_index().drop(\"index\", axis = \"columns\")\n",
    "#Cleaned up dataframe with all player stats in western conference\n",
    "players_df_shoot\n"
   ]
  },
  {
   "cell_type": "code",
   "execution_count": null,
   "id": "d59d4fd0",
   "metadata": {},
   "outputs": [],
   "source": [
    "#Next few cells are for acquiring salary of all players in western conference\n",
    "\n",
    "url2 = \"https://www.espn.com/nba/team/roster/_/name/sac/salary\"\n",
    "kings_salary_raw = pd.read_html(url2)[0]\n",
    "\n",
    "pattern_sal = re.compile(r'/nba/team/roster/_/+')\n",
    "sal_links_df = links_df[links_df['links'].str.contains(pattern_sal, regex = True)]\n",
    "\n",
    "\n",
    "west_conference_sal = pd.concat([sal_links_df.iloc[10:20,:],sal_links_df.iloc[25:,:]])\n",
    "west_conference_sal_links = west_conference_sal.reset_index().drop(\"index\", axis = \"columns\")\n",
    "#links to all pages with team salaries\n",
    "west_conference_sal_links"
   ]
  },
  {
   "cell_type": "code",
   "execution_count": null,
   "id": "dc74b2e3",
   "metadata": {},
   "outputs": [],
   "source": [
    "#Removed kings from links\n",
    "west_conference_sal_links = west_conference_sal_links.drop(9, axis = \"rows\").reset_index().drop(\"index\",axis = \"columns\")\n",
    "west_conference_sal_links"
   ]
  },
  {
   "cell_type": "code",
   "execution_count": null,
   "id": "affc0c1d",
   "metadata": {
    "scrolled": true
   },
   "outputs": [],
   "source": [
    "#What the salary page returns; we only care about name and salary\n",
    "pd.read_html(\"https://www.espn.com/nba/team/roster/_/name/den/denver-nuggets\")"
   ]
  },
  {
   "cell_type": "code",
   "execution_count": null,
   "id": "357f16e4",
   "metadata": {},
   "outputs": [],
   "source": [
    "#Acquiring the salaries from the links\n",
    "sal_players_df = pd.DataFrame()\n",
    "for link in west_conference_sal_links[\"links\"]:\n",
    "    url = \"https://www.espn.com\"+link\n",
    "    player_salaries = pd.read_html(url)[0]\n",
    "    sal_players_df = pd.concat([sal_players_df, player_salaries], ignore_index = True)\n",
    "sal_players_df"
   ]
  },
  {
   "cell_type": "code",
   "execution_count": null,
   "id": "bbd7767f",
   "metadata": {},
   "outputs": [],
   "source": [
    "#Cleaning\n",
    "for i in range(0,len(sal_players_df)):\n",
    "    sal_players_df.loc[:,\"Name\"][i] = re.sub(r\"\\d+\", \"\", str(sal_players_df.loc[:,\"Name\"][i]))"
   ]
  },
  {
   "cell_type": "code",
   "execution_count": null,
   "id": "80713fa1",
   "metadata": {},
   "outputs": [],
   "source": [
    "#Cleaning\n",
    "sal_players_df = sal_players_df.set_index(\"Name\").drop('Unnamed: 0', axis = 1)\n",
    "sal_players_df = sal_players_df.drop(['POS', 'Age', 'HT', 'WT', 'College'], axis = 1)\n",
    "#Clean salary dataframe\n",
    "sal_players_df"
   ]
  },
  {
   "cell_type": "code",
   "execution_count": null,
   "id": "99ae1fef",
   "metadata": {},
   "outputs": [],
   "source": [
    "#Merge western conference player stats with their salaries\n",
    "players_stats_salary = pd.merge(players_df,sal_players_df, how = \"left\", on = \"Name\")\n",
    "player_stats_shoot_salary = pd.merge(players_stats_salary, players_df_shoot, how = \"left\", on = \"Name\")\n",
    "player_stats_shoot_salary\n",
    "salary = player_stats_shoot_salary.pop(\"Salary\")\n",
    "player_stats_shoot_salary = pd.concat([player_stats_shoot_salary, salary], axis = 'columns')\n",
    "player_stats_shoot_salary"
   ]
  },
  {
   "cell_type": "code",
   "execution_count": null,
   "id": "7b41ea5a-0215-45ed-8c41-d472522d5865",
   "metadata": {},
   "outputs": [],
   "source": [
    "#replace all the \"--\" and NAN to 0\n",
    "player_stats_shoot_salary['Salary'] = player_stats_shoot_salary['Salary'].replace(\"--\", '0')\n",
    "player_stats_shoot_salary['Salary'] = player_stats_shoot_salary['Salary'].replace(np.NaN, '0')\n",
    "#remove $ and , signals\n",
    "for i in range(0,len(player_stats_shoot_salary)):\n",
    "    player_stats_shoot_salary['Salary'][i] = player_stats_shoot_salary['Salary'][i].lstrip('$')\n",
    "    player_stats_shoot_salary['Salary'][i] = player_stats_shoot_salary['Salary'][i].replace(',','')\n",
    "    #turn Salary to numbers\n",
    "    player_stats_shoot_salary['Salary'][i] = int(player_stats_shoot_salary['Salary'][i])\n",
    "#replace all 0 to NAN\n",
    "player_stats_shoot_salary['Salary'] = player_stats_shoot_salary['Salary'].replace(0, np.NaN)\n",
    "#drop all NAN\n",
    "player_stats_shoot_salary_temp = player_stats_shoot_salary.dropna()\n"
   ]
  },
  {
   "cell_type": "code",
   "execution_count": null,
   "id": "58cfe323-7cc1-44f4-86f6-630bb8d4436c",
   "metadata": {},
   "outputs": [],
   "source": [
    "#final dataset\n",
    "pd.set_option('display.max_columns', None)\n",
    "\n",
    "player_stats_shoot_salary_temp"
   ]
  },
  {
   "cell_type": "markdown",
   "id": "15587d08",
   "metadata": {},
   "source": [
    "### Correlations and Averages"
   ]
  },
  {
   "cell_type": "code",
   "execution_count": null,
   "id": "3bd6b573-f720-4380-8331-125accdeb10f",
   "metadata": {},
   "outputs": [],
   "source": [
    "#setting up heatmap for correlations between all statistics\n",
    "import seaborn as sns\n",
    "import matplotlib.pyplot as plt\n",
    "fig, ax = plt.subplots(figsize=(12,10))\n",
    "corr = player_stats_shoot_salary.corr()\n",
    "sns.heatmap(corr, \n",
    "            xticklabels=corr.columns.values,\n",
    "            yticklabels=corr.columns.values, ax=ax)"
   ]
  },
  {
   "cell_type": "code",
   "execution_count": null,
   "id": "6f6d00b9-d908-4631-9108-cc48fc2004e6",
   "metadata": {},
   "outputs": [],
   "source": [
    "#function that creates heatmaps for the 8 variables that are most strongly correlated with % of Cap for each of the data subsets\n",
    "def heatMap(df, k):\n",
    "    corrmat = df.corr(method='pearson', min_periods=1)\n",
    "    r_square = corrmat ** 2\n",
    "    ## Top K-1 correlated variables\n",
    "    cols = r_square.nlargest(k, 'Salary')['Salary'].index\n",
    "    cm = df[cols].corr()\n",
    "    cm_square = cm ** 2\n",
    "    f, ax = plt.subplots(figsize=(7, 7))\n",
    "    sns.set(font_scale=1.25)\n",
    "    hm = sns.heatmap(cm_square, cbar=False, annot=True, square=True, fmt='.2f', annot_kws={'size': 10}, yticklabels=cols.values, xticklabels=cols.values)\n",
    "    plt.show()\n",
    "heatMap(player_stats_shoot_salary, 9)"
   ]
  },
  {
   "cell_type": "code",
   "execution_count": null,
   "id": "335ef73b-448e-45b9-8797-0f7b68458197",
   "metadata": {},
   "outputs": [],
   "source": [
    "#creating scatter plots to further look at the relationships between % of Cap and other vars\n",
    "#sns.set()\n",
    "#sns.pairplot(player_stats_shoot_salary, height=5)\n",
    "#plt.show()"
   ]
  },
  {
   "cell_type": "code",
   "execution_count": null,
   "id": "04cd3339-5311-4d4d-9275-34fd26fe07d5",
   "metadata": {},
   "outputs": [],
   "source": [
    "# Many statistical tests make the assumption that datasets are normally distributed. However, this is often not the case in practice.\n",
    "# One way to address this issue is to transform the distribution of values in a dataset using log transformations\n",
    "player_stats_shoot_salary['Salary'] = np.log(player_stats_shoot_salary['Salary'])\n",
    "player_stats_shoot_salary"
   ]
  },
  {
   "cell_type": "code",
   "execution_count": null,
   "id": "9e4cdfad-359b-40e7-9906-80c51b34acd9",
   "metadata": {},
   "outputs": [],
   "source": [
    "x = player_stats_shoot_salary[['GP', 'GS', 'MIN', 'PTS', 'OR', 'DR', 'REB', 'AST', 'STL','BLK', 'TO', 'PF', #'AST/TO', \n",
    "                              'FGM', 'FGA', 'FG%', '3PM', '3PA','3P%', 'FTM', 'FTA', 'FT%', '2PM', '2PA', '2P%', 'SC-EFF', 'SH-EFF']]\n",
    "from statsmodels.stats.outliers_influence import variance_inflation_factor\n",
    "vif = pd.DataFrame()\n",
    "vif[\"VIF Factor\"] = [variance_inflation_factor(x.values, i) for i in range(x.shape[1])]\n",
    "vif[\"features\"] = x.columns\n",
    "vif.round(1)\n",
    "#lower VIF factor values means less multicollinearity"
   ]
  },
  {
   "cell_type": "code",
   "execution_count": null,
   "id": "1b4249dd-7c3b-4bbb-89a8-78f79eb09cac",
   "metadata": {},
   "outputs": [],
   "source": [
    "# remove some features from dataframe because their VIF factor values are far too high\n",
    "DF = player_stats_shoot_salary[['GS', 'PTS', 'REB', 'AST', 'STL','BLK', '3P%', '2P%']]\n",
    "from statsmodels.stats.outliers_influence import variance_inflation_factor\n",
    "vif = pd.DataFrame()\n",
    "vif[\"VIF Factor\"] = [variance_inflation_factor(DF.values, i) for i in range(DF.shape[1])]\n",
    "vif[\"features\"] = DF.columns\n",
    "vif.round(1)"
   ]
  },
  {
   "cell_type": "code",
   "execution_count": null,
   "id": "f8097071-96d3-4414-87e7-31d60c103f13",
   "metadata": {},
   "outputs": [],
   "source": [
    "copy=player_stats_shoot_salary\n",
    "copy=copy[['Name','GS', 'PTS', 'REB', 'AST', 'STL','BLK', '3P%', '2P%', 'Salary']] #'Predicted Salary', 'Residuals']]\n",
    "#copy=copy.sort_values('Residuals')\n",
    "#get top25 most undervalued players\n",
    "\n",
    "top25=copy[:25]\n",
    "top25\n"
   ]
  },
  {
   "cell_type": "code",
   "execution_count": null,
   "id": "b1739a57-99d3-44cf-b557-48159427348d",
   "metadata": {},
   "outputs": [],
   "source": [
    "GSMean=top25['GS'].mean()\n",
    "print ('Average Game Started is:',GSMean)\n",
    "\n",
    "PTSMean=top25['PTS'].mean()\n",
    "print ('Average Point is:',PTSMean)\n",
    "\n",
    "REBMean=top25['REB'].mean()\n",
    "print ('Average Rebounds is:',REBMean)\n",
    "\n",
    "ASTMean=top25['AST'].mean()\n",
    "print ('Average Assists is:',ASTMean)\n",
    "\n",
    "STLMean=top25['STL'].mean()\n",
    "print ('Average Steals is:',STLMean)\n",
    "\n",
    "BLKMean=top25['BLK'].mean()\n",
    "print ('Average Blocks is:',BLKMean)\n",
    "\n",
    "P3Mean=top25['3P%'].mean()\n",
    "print ('Average Three-Point Field Goals Percentage is:',P3Mean)\n",
    "\n",
    "P2Mean=top25['2P%'].mean()\n",
    "print ('Average Two-Point Field Goals Percentage is:',P2Mean)\n",
    "\n",
    "SalaryMean=top25['Salary'].mean()\n",
    "print ('Average Salary in log is:',SalaryMean)\n",
    "\n",
    "#residMean=bottom25['Residuals'].mean()\n",
    "#print ('Average absolute value Residual is:',-1*residMean, '%')"
   ]
  },
  {
   "cell_type": "code",
   "execution_count": null,
   "id": "5137be60-4cc7-4acc-86de-3ef0ba0b1c7d",
   "metadata": {},
   "outputs": [],
   "source": [
    "#hist=top25.hist(column='Residuals')"
   ]
  },
  {
   "cell_type": "code",
   "execution_count": null,
   "id": "8e1b740b-aae5-4dfa-aaba-33e4c9c6ad13",
   "metadata": {},
   "outputs": [],
   "source": [
    "#get most overvalued players by residuals\n",
    "bottom25=copy[-25:]\n",
    "bottom25"
   ]
  },
  {
   "cell_type": "code",
   "execution_count": null,
   "id": "b9c1a2aa-f77e-4820-8f53-d7886e8bfe26",
   "metadata": {},
   "outputs": [],
   "source": [
    "GSMean=bottom25['GS'].mean()\n",
    "print ('Average Game Started is:',GSMean)\n",
    "\n",
    "PTSMean=bottom25['PTS'].mean()\n",
    "print ('Average Point is:',PTSMean)\n",
    "\n",
    "REBMean=bottom25['REB'].mean()\n",
    "print ('Average Rebounds is:',REBMean)\n",
    "\n",
    "ASTMean=bottom25['AST'].mean()\n",
    "print ('Average Assists is:',ASTMean)\n",
    "\n",
    "STLMean=bottom25['STL'].mean()\n",
    "print ('Average Steals is:',STLMean)\n",
    "\n",
    "BLKMean=bottom25['BLK'].mean()\n",
    "print ('Average Blocks is:',BLKMean)\n",
    "\n",
    "\n",
    "P3Mean=bottom25['3P%'].mean()\n",
    "print ('Average Three-Point Field Goals Percentage is:',P3Mean)\n",
    "\n",
    "P2Mean=bottom25['2P%'].mean()\n",
    "print ('Average Two-Point Field Goals Percentage is:',P2Mean)\n",
    "\n",
    "SalaryMean=bottom25['Salary'].mean()\n",
    "print ('Average Salary in log is:',SalaryMean)\n",
    "\n",
    "#residMean=bottom25['Residuals'].mean()\n",
    "#print ('Average absolute value Residual is:',-1*residMean, '%')"
   ]
  },
  {
   "cell_type": "code",
   "execution_count": null,
   "id": "82560791-7d5f-4ed3-bbed-1177fcefa1c1",
   "metadata": {},
   "outputs": [],
   "source": [
    "#graph=bottom25.hist(column='Residuals')"
   ]
  },
  {
   "cell_type": "code",
   "execution_count": null,
   "id": "efefb4cb",
   "metadata": {},
   "outputs": [],
   "source": []
  },
  {
   "cell_type": "code",
   "execution_count": null,
   "id": "6dc071e9",
   "metadata": {},
   "outputs": [],
   "source": [
    "import pandas as pd\n",
    "import statsmodels.api as sm \n",
    "pd.set_option('display.max_columns', None)"
   ]
  },
  {
   "cell_type": "code",
   "execution_count": null,
   "id": "7a117444",
   "metadata": {},
   "outputs": [],
   "source": [
    "kings_final_df"
   ]
  },
  {
   "cell_type": "code",
   "execution_count": null,
   "id": "61759786",
   "metadata": {},
   "outputs": [],
   "source": [
    "import plotnine as p9\n",
    "import numpy as np\n",
    "import statsmodels.api as sm \n",
    "import pandas as pd\n",
    "import re\n",
    "\n",
    "#pd.set_option('display.max_rows', None)\n"
   ]
  },
  {
   "cell_type": "markdown",
   "id": "c4cd139a",
   "metadata": {},
   "source": [
    "### DATA CLEANING"
   ]
  },
  {
   "cell_type": "code",
   "execution_count": null,
   "id": "5bc6b033",
   "metadata": {
    "scrolled": false
   },
   "outputs": [],
   "source": [
    "df = player_stats_shoot_salary_temp\n",
    "df_names = df[\"Name\"]\n",
    "df"
   ]
  },
  {
   "cell_type": "code",
   "execution_count": null,
   "id": "c41d0bf4",
   "metadata": {},
   "outputs": [],
   "source": [
    "kings_df = kings_final_df\n",
    "kings_df"
   ]
  },
  {
   "cell_type": "code",
   "execution_count": null,
   "id": "278dda45",
   "metadata": {},
   "outputs": [],
   "source": [
    "def df_clean(df):\n",
    "    #Dropping name to enable linear regression\n",
    "    df = df.drop(\"Name\", axis = \"columns\").dropna()\n",
    "    # AST/TO has some infinities, dropping them\n",
    "    drop_df = df[df[\"AST/TO\"].isin([np.inf, -np.inf])]\n",
    "    df = df.drop(drop_df.index)\n",
    "    for name in df.columns:\n",
    "        # Dropping, as these variables are made redundant by their corresponding percentages: (FG%, 2P%, ...)\n",
    "        if name in [\"FGM\",\"FGA\",\"3PM\",\"3PA\",\"2PM\",\"2PA\",\"FTM\",\"FTA\"]:\n",
    "            df = df.drop(name, axis = \"columns\") \n",
    "    return df\n"
   ]
  },
  {
   "cell_type": "code",
   "execution_count": null,
   "id": "dec0edd4",
   "metadata": {},
   "outputs": [],
   "source": [
    "df = df_clean(df)\n",
    "df"
   ]
  },
  {
   "cell_type": "markdown",
   "id": "51f8b1b6",
   "metadata": {},
   "source": [
    "### MODEL BUILDING"
   ]
  },
  {
   "cell_type": "code",
   "execution_count": null,
   "id": "c9868e44",
   "metadata": {},
   "outputs": [],
   "source": [
    "df = sm.add_constant(df)"
   ]
  },
  {
   "cell_type": "code",
   "execution_count": null,
   "id": "f69f23c6",
   "metadata": {},
   "outputs": [],
   "source": [
    "ols = sm.OLS(np.log(df['Salary']),df.drop(columns = 'Salary')) \n",
    "ols_res = ols.fit() "
   ]
  },
  {
   "cell_type": "code",
   "execution_count": null,
   "id": "346cbcb3",
   "metadata": {
    "scrolled": false
   },
   "outputs": [],
   "source": [
    "ols_res.summary()"
   ]
  },
  {
   "cell_type": "code",
   "execution_count": null,
   "id": "6c8da50b",
   "metadata": {},
   "outputs": [],
   "source": [
    "df = df.drop(\"OR\", axis = \"columns\")"
   ]
  },
  {
   "cell_type": "code",
   "execution_count": null,
   "id": "54580267",
   "metadata": {},
   "outputs": [],
   "source": [
    "df = df.drop(\"STL\", axis = \"columns\")"
   ]
  },
  {
   "cell_type": "code",
   "execution_count": null,
   "id": "339fd70a",
   "metadata": {},
   "outputs": [],
   "source": [
    "df = df.drop(\"PF\", axis = \"columns\")"
   ]
  },
  {
   "cell_type": "code",
   "execution_count": null,
   "id": "794f1163",
   "metadata": {},
   "outputs": [],
   "source": [
    "df = df.drop(\"TO\", axis = \"columns\")"
   ]
  },
  {
   "cell_type": "code",
   "execution_count": null,
   "id": "8b3b0612",
   "metadata": {},
   "outputs": [],
   "source": [
    "df = df.drop(\"BLK\", axis = \"columns\") #.473"
   ]
  },
  {
   "cell_type": "code",
   "execution_count": null,
   "id": "ad615c9f",
   "metadata": {},
   "outputs": [],
   "source": [
    "df = df.drop(\"FG%\", axis = \"columns\")"
   ]
  },
  {
   "cell_type": "code",
   "execution_count": null,
   "id": "a5c38d08",
   "metadata": {},
   "outputs": [],
   "source": [
    "df = df.drop(\"AST/TO\", axis = \"columns\")"
   ]
  },
  {
   "cell_type": "code",
   "execution_count": null,
   "id": "87dffee0",
   "metadata": {},
   "outputs": [],
   "source": [
    "df = df.drop(\"SH-EFF\", axis = \"columns\")"
   ]
  },
  {
   "cell_type": "code",
   "execution_count": null,
   "id": "a660b266",
   "metadata": {},
   "outputs": [],
   "source": [
    "df = df.drop(\"GS\", axis = \"columns\") #.482"
   ]
  },
  {
   "cell_type": "code",
   "execution_count": null,
   "id": "2b5528ff",
   "metadata": {},
   "outputs": [],
   "source": [
    "df = df.drop(\"REB\", axis = \"columns\") "
   ]
  },
  {
   "cell_type": "code",
   "execution_count": null,
   "id": "48c1663a",
   "metadata": {},
   "outputs": [],
   "source": [
    "df = df.drop(\"3P%\", axis = \"columns\")"
   ]
  },
  {
   "cell_type": "markdown",
   "id": "d4a5743e",
   "metadata": {},
   "source": [
    "### MODELING"
   ]
  },
  {
   "cell_type": "code",
   "execution_count": null,
   "id": "a13d89c7",
   "metadata": {},
   "outputs": [],
   "source": [
    "ols = sm.OLS(np.log(df['Salary']),df.drop(columns = 'Salary')) \n",
    "ols_res = ols.fit() \n",
    "ols_res.summary()"
   ]
  },
  {
   "cell_type": "markdown",
   "id": "0655c4d2",
   "metadata": {},
   "source": [
    "### DIAGNOSTIC PLOTS"
   ]
  },
  {
   "cell_type": "code",
   "execution_count": null,
   "id": "5810db8f",
   "metadata": {},
   "outputs": [],
   "source": [
    "(\n",
    "    p9.ggplot(mapping = p9.aes(x = 'ols_res.fittedvalues', \n",
    "                                            y = \"ols_res.resid_pearson\"))\n",
    "    + p9.geom_point()\n",
    "    + p9.geom_smooth(color = \"red\")\n",
    "    + p9.labs(title = \"Fitted vs Residuals\", x = 'Fitted values', y = 'Residuals')\n",
    ")"
   ]
  },
  {
   "cell_type": "code",
   "execution_count": null,
   "id": "6ab5b44d",
   "metadata": {},
   "outputs": [],
   "source": [
    "(\n",
    "    p9.ggplot(mapping = p9.aes(sample = \"ols_res.resid_pearson\"))\n",
    "    + p9.geom_abline(p9.aes(intercept = 0, slope = 1), color = 'red')\n",
    "    + p9.stats.stat_qq()\n",
    "    + p9.labs(title = \"QQ-Plot with Pearson Residuals\")\n",
    ")"
   ]
  },
  {
   "cell_type": "markdown",
   "id": "279855e3",
   "metadata": {},
   "source": [
    "### REMOVE OUTLIERS"
   ]
  },
  {
   "cell_type": "code",
   "execution_count": null,
   "id": "95a583bb",
   "metadata": {},
   "outputs": [],
   "source": [
    "df[\"Residuals\"] = ols_res.resid_pearson\n",
    "temp_df2 = df[round(df[\"Residuals\"]) < -2]\n",
    "temp_df2"
   ]
  },
  {
   "cell_type": "code",
   "execution_count": null,
   "id": "08760172",
   "metadata": {},
   "outputs": [],
   "source": [
    "df = df.drop(temp_df2.index)\n",
    "df = df.drop(\"Residuals\", axis = \"columns\")"
   ]
  },
  {
   "cell_type": "code",
   "execution_count": null,
   "id": "e26e10ca",
   "metadata": {},
   "outputs": [],
   "source": [
    "ols = sm.OLS(np.log(df['Salary']),df.drop(columns = 'Salary')) \n",
    "ols_res = ols.fit() \n",
    "ols_res.summary() "
   ]
  },
  {
   "cell_type": "code",
   "execution_count": null,
   "id": "094a91b8",
   "metadata": {},
   "outputs": [],
   "source": [
    "(\n",
    "    p9.ggplot(mapping = p9.aes(x = 'ols_res.fittedvalues', \n",
    "                                            y = \"ols_res.resid_pearson\"))\n",
    "    + p9.geom_point()\n",
    "    + p9.geom_smooth(color = \"red\")\n",
    "    + p9.labs(title = \"Fitted vs Residuals\", x = 'Fitted values', y = 'Residuals')\n",
    ")"
   ]
  },
  {
   "cell_type": "code",
   "execution_count": null,
   "id": "31cc51ca",
   "metadata": {},
   "outputs": [],
   "source": [
    "(\n",
    "    p9.ggplot(mapping = p9.aes(sample = \"ols_res.resid_pearson\"))\n",
    "    + p9.geom_abline(p9.aes(intercept = 0, slope = 1), color = 'red')\n",
    "    + p9.stats.stat_qq()\n",
    "    + p9.labs(title = \"QQ-Plot with Pearson Residuals\")\n",
    ")"
   ]
  },
  {
   "cell_type": "markdown",
   "id": "9450ea1e",
   "metadata": {},
   "source": [
    "### KINGS"
   ]
  },
  {
   "cell_type": "code",
   "execution_count": null,
   "id": "d4935c24",
   "metadata": {},
   "outputs": [],
   "source": [
    "kings_df"
   ]
  },
  {
   "cell_type": "code",
   "execution_count": null,
   "id": "2f2890b0",
   "metadata": {},
   "outputs": [],
   "source": [
    "#replace all the \"--\" and NAN to 0\n",
    "\n",
    "kings_df['Salary'] = kings_df['Salary'].replace(\"--\", '0')\n",
    "kings_df['Salary'] = kings_df['Salary'].replace(np.NaN, '0')\n",
    "#remove $ and , signals\n",
    "for i in range(0,len(kings_df)):\n",
    "    kings_df['Salary'][i] = kings_df['Salary'][i].lstrip('$')\n",
    "    kings_df['Salary'][i] = kings_df['Salary'][i].replace(',','')\n",
    "    #turn Salary to numbers\n",
    "    kings_df['Salary'][i] = int(kings_df['Salary'][i])\n",
    "#replace all 0 to NAN\n",
    "kings_df['Salary'] = kings_df['Salary'].replace(0, np.NaN)\n",
    "#drop all NAN\n",
    "kings_df = kings_df.dropna()"
   ]
  },
  {
   "cell_type": "code",
   "execution_count": null,
   "id": "09ab0acd",
   "metadata": {},
   "outputs": [],
   "source": [
    "kings_names = kings_df[\"Name\"]"
   ]
  },
  {
   "cell_type": "code",
   "execution_count": null,
   "id": "9df9fea4",
   "metadata": {},
   "outputs": [],
   "source": [
    "kings_df = df_clean(kings_df)"
   ]
  },
  {
   "cell_type": "code",
   "execution_count": null,
   "id": "c1d96768",
   "metadata": {},
   "outputs": [],
   "source": [
    "kings_df = kings_df.drop(\"OR\", axis = \"columns\")\n",
    "kings_df = kings_df.drop(\"STL\", axis = \"columns\")\n",
    "kings_df = kings_df.drop(\"PF\", axis = \"columns\")\n",
    "kings_df = kings_df.drop(\"TO\", axis = \"columns\")\n",
    "kings_df = kings_df.drop(\"BLK\", axis = \"columns\")\n",
    "kings_df = kings_df.drop(\"FG%\", axis = \"columns\")\n",
    "kings_df = kings_df.drop(\"AST/TO\", axis = \"columns\")\n",
    "kings_df = kings_df.drop(\"SH-EFF\", axis = \"columns\")\n",
    "kings_df = kings_df.drop(\"GS\", axis = \"columns\")\n",
    "kings_df = kings_df.drop(\"REB\", axis = \"columns\") \n",
    "kings_df = kings_df.drop(\"3P%\", axis = \"columns\")\n",
    "\n",
    "#kings_df = kings_df.drop(\"SC-EFF\", axis = \"columns\")"
   ]
  },
  {
   "cell_type": "code",
   "execution_count": null,
   "id": "39d4bd7a",
   "metadata": {},
   "outputs": [],
   "source": [
    "kings_df = sm.add_constant(kings_df)\n",
    "kings_df[\"GP\"] = kings_df[\"GP\"].astype(\"float64\")\n"
   ]
  },
  {
   "cell_type": "code",
   "execution_count": null,
   "id": "8740ad9c",
   "metadata": {},
   "outputs": [],
   "source": [
    "ols_res.predict(kings_df.drop(columns = 'Salary'))"
   ]
  },
  {
   "cell_type": "code",
   "execution_count": null,
   "id": "7ae4bcc6",
   "metadata": {},
   "outputs": [],
   "source": [
    "kings_df[\"Predicted\"] = np.exp(ols_res.predict(kings_df.drop(columns = 'Salary')))\n",
    "kings_df.insert(0,\"Names\",kings_names)\n",
    "kings_df[\"Residuals\"]= kings_df[\"Salary\"]-kings_df[\"Predicted\"]"
   ]
  },
  {
   "cell_type": "code",
   "execution_count": null,
   "id": "cb362098",
   "metadata": {
    "scrolled": true
   },
   "outputs": [],
   "source": [
    "pd.set_option('display.float_format', lambda x: '%.5f' % x)\n",
    "kings_df"
   ]
  },
  {
   "cell_type": "code",
   "execution_count": null,
   "id": "74bbce50",
   "metadata": {},
   "outputs": [],
   "source": [
    "kings_df[\"Residuals\"].sum()"
   ]
  },
  {
   "cell_type": "code",
   "execution_count": null,
   "id": "6ff93876",
   "metadata": {
    "scrolled": true
   },
   "outputs": [],
   "source": [
    "kings_df[\"Salary\"] = np.log(kings_df[\"Salary\"])\n",
    "kings_df[\"Predicted\"] =  np.log(kings_df[\"Predicted\"])\n",
    "kings_df[\"Residuals\"]= kings_df[\"Salary\"]-kings_df[\"Predicted\"]\n",
    "kings_df"
   ]
  },
  {
   "cell_type": "code",
   "execution_count": null,
   "id": "ecc7f832",
   "metadata": {},
   "outputs": [],
   "source": [
    "kings_df[\"Residuals\"].sum()"
   ]
  }
 ],
 "metadata": {
  "kernelspec": {
   "display_name": "Python 3 (ipykernel)",
   "language": "python",
   "name": "python3"
  },
  "language_info": {
   "codemirror_mode": {
    "name": "ipython",
    "version": 3
   },
   "file_extension": ".py",
   "mimetype": "text/x-python",
   "name": "python",
   "nbconvert_exporter": "python",
   "pygments_lexer": "ipython3",
   "version": "3.9.12"
  }
 },
 "nbformat": 4,
 "nbformat_minor": 5
}

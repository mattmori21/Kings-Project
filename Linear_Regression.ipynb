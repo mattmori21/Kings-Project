{
 "cells": [
  {
   "cell_type": "code",
   "execution_count": 1,
   "id": "efefb4cb",
   "metadata": {},
   "outputs": [],
   "source": [
    "%store -r player_stats_shoot_salary_temp\n",
    "%store -r kings_final_df"
   ]
  },
  {
   "cell_type": "code",
   "execution_count": 2,
   "id": "96c6f51a",
   "metadata": {},
   "outputs": [],
   "source": [
    "import pandas as pd"
   ]
  },
  {
   "cell_type": "code",
   "execution_count": 3,
   "id": "d0897418",
   "metadata": {},
   "outputs": [],
   "source": [
    "pd.set_option('display.max_columns', None)"
   ]
  },
  {
   "cell_type": "code",
   "execution_count": 4,
   "id": "e99b4f39",
   "metadata": {},
   "outputs": [
    {
     "data": {
      "text/html": [
       "<div>\n",
       "<style scoped>\n",
       "    .dataframe tbody tr th:only-of-type {\n",
       "        vertical-align: middle;\n",
       "    }\n",
       "\n",
       "    .dataframe tbody tr th {\n",
       "        vertical-align: top;\n",
       "    }\n",
       "\n",
       "    .dataframe thead th {\n",
       "        text-align: right;\n",
       "    }\n",
       "</style>\n",
       "<table border=\"1\" class=\"dataframe\">\n",
       "  <thead>\n",
       "    <tr style=\"text-align: right;\">\n",
       "      <th></th>\n",
       "      <th>Name</th>\n",
       "      <th>FGM</th>\n",
       "      <th>FGA</th>\n",
       "      <th>FG%</th>\n",
       "      <th>3PM</th>\n",
       "      <th>3PA</th>\n",
       "      <th>3P%</th>\n",
       "      <th>FTM</th>\n",
       "      <th>FTA</th>\n",
       "      <th>FT%</th>\n",
       "      <th>2PM</th>\n",
       "      <th>2PA</th>\n",
       "      <th>2P%</th>\n",
       "      <th>SC-EFF</th>\n",
       "      <th>SH-EFF</th>\n",
       "      <th>GP</th>\n",
       "      <th>GS</th>\n",
       "      <th>MIN</th>\n",
       "      <th>PTS</th>\n",
       "      <th>OR</th>\n",
       "      <th>DR</th>\n",
       "      <th>REB</th>\n",
       "      <th>AST</th>\n",
       "      <th>STL</th>\n",
       "      <th>BLK</th>\n",
       "      <th>TO</th>\n",
       "      <th>PF</th>\n",
       "      <th>AST/TO</th>\n",
       "      <th>Salary</th>\n",
       "    </tr>\n",
       "  </thead>\n",
       "  <tbody>\n",
       "    <tr>\n",
       "      <th>0</th>\n",
       "      <td>De'Aaron Fox</td>\n",
       "      <td>8.9</td>\n",
       "      <td>17.0</td>\n",
       "      <td>52.6</td>\n",
       "      <td>1.9</td>\n",
       "      <td>4.9</td>\n",
       "      <td>39.4</td>\n",
       "      <td>4.2</td>\n",
       "      <td>5.1</td>\n",
       "      <td>82.3</td>\n",
       "      <td>7.0</td>\n",
       "      <td>12.1</td>\n",
       "      <td>58.1</td>\n",
       "      <td>1.412</td>\n",
       "      <td>0.58</td>\n",
       "      <td>19</td>\n",
       "      <td>19.0</td>\n",
       "      <td>31.8</td>\n",
       "      <td>24.0</td>\n",
       "      <td>0.5</td>\n",
       "      <td>4.4</td>\n",
       "      <td>4.9</td>\n",
       "      <td>6.0</td>\n",
       "      <td>1.1</td>\n",
       "      <td>0.5</td>\n",
       "      <td>2.6</td>\n",
       "      <td>2.7</td>\n",
       "      <td>2.3</td>\n",
       "      <td>$28,103,550</td>\n",
       "    </tr>\n",
       "    <tr>\n",
       "      <th>1</th>\n",
       "      <td>Domantas Sabonis</td>\n",
       "      <td>6.1</td>\n",
       "      <td>10.4</td>\n",
       "      <td>58.5</td>\n",
       "      <td>0.4</td>\n",
       "      <td>1.2</td>\n",
       "      <td>29.2</td>\n",
       "      <td>4.2</td>\n",
       "      <td>5.7</td>\n",
       "      <td>74.3</td>\n",
       "      <td>5.7</td>\n",
       "      <td>9.2</td>\n",
       "      <td>62.3</td>\n",
       "      <td>1.609</td>\n",
       "      <td>0.60</td>\n",
       "      <td>20</td>\n",
       "      <td>20.0</td>\n",
       "      <td>32.2</td>\n",
       "      <td>16.7</td>\n",
       "      <td>2.2</td>\n",
       "      <td>8.9</td>\n",
       "      <td>11.0</td>\n",
       "      <td>6.4</td>\n",
       "      <td>0.8</td>\n",
       "      <td>0.5</td>\n",
       "      <td>2.6</td>\n",
       "      <td>3.8</td>\n",
       "      <td>2.5</td>\n",
       "      <td>$18,500,000</td>\n",
       "    </tr>\n",
       "    <tr>\n",
       "      <th>2</th>\n",
       "      <td>Kevin Huerter</td>\n",
       "      <td>5.6</td>\n",
       "      <td>11.4</td>\n",
       "      <td>48.9</td>\n",
       "      <td>3.2</td>\n",
       "      <td>7.1</td>\n",
       "      <td>45.1</td>\n",
       "      <td>1.6</td>\n",
       "      <td>2.4</td>\n",
       "      <td>68.1</td>\n",
       "      <td>2.4</td>\n",
       "      <td>4.3</td>\n",
       "      <td>55.3</td>\n",
       "      <td>1.401</td>\n",
       "      <td>0.63</td>\n",
       "      <td>20</td>\n",
       "      <td>20.0</td>\n",
       "      <td>32.0</td>\n",
       "      <td>15.9</td>\n",
       "      <td>0.4</td>\n",
       "      <td>3.0</td>\n",
       "      <td>3.4</td>\n",
       "      <td>3.2</td>\n",
       "      <td>1.1</td>\n",
       "      <td>0.5</td>\n",
       "      <td>1.6</td>\n",
       "      <td>2.4</td>\n",
       "      <td>2.1</td>\n",
       "      <td>$14,508,929</td>\n",
       "    </tr>\n",
       "    <tr>\n",
       "      <th>3</th>\n",
       "      <td>Malik Monk</td>\n",
       "      <td>5.3</td>\n",
       "      <td>10.8</td>\n",
       "      <td>48.8</td>\n",
       "      <td>2.0</td>\n",
       "      <td>5.6</td>\n",
       "      <td>36.0</td>\n",
       "      <td>2.1</td>\n",
       "      <td>2.3</td>\n",
       "      <td>89.1</td>\n",
       "      <td>3.3</td>\n",
       "      <td>5.2</td>\n",
       "      <td>62.5</td>\n",
       "      <td>1.353</td>\n",
       "      <td>0.58</td>\n",
       "      <td>20</td>\n",
       "      <td>0.0</td>\n",
       "      <td>22.5</td>\n",
       "      <td>14.6</td>\n",
       "      <td>0.4</td>\n",
       "      <td>1.8</td>\n",
       "      <td>2.2</td>\n",
       "      <td>4.4</td>\n",
       "      <td>0.7</td>\n",
       "      <td>0.2</td>\n",
       "      <td>1.9</td>\n",
       "      <td>1.8</td>\n",
       "      <td>2.3</td>\n",
       "      <td>$9,472,219</td>\n",
       "    </tr>\n",
       "    <tr>\n",
       "      <th>4</th>\n",
       "      <td>Harrison Barnes</td>\n",
       "      <td>4.0</td>\n",
       "      <td>8.4</td>\n",
       "      <td>47.6</td>\n",
       "      <td>0.9</td>\n",
       "      <td>3.2</td>\n",
       "      <td>28.1</td>\n",
       "      <td>4.3</td>\n",
       "      <td>5.0</td>\n",
       "      <td>86.9</td>\n",
       "      <td>3.1</td>\n",
       "      <td>5.2</td>\n",
       "      <td>59.6</td>\n",
       "      <td>1.571</td>\n",
       "      <td>0.53</td>\n",
       "      <td>20</td>\n",
       "      <td>20.0</td>\n",
       "      <td>30.5</td>\n",
       "      <td>13.2</td>\n",
       "      <td>1.1</td>\n",
       "      <td>4.4</td>\n",
       "      <td>5.5</td>\n",
       "      <td>2.0</td>\n",
       "      <td>0.9</td>\n",
       "      <td>0.2</td>\n",
       "      <td>1.2</td>\n",
       "      <td>1.5</td>\n",
       "      <td>1.7</td>\n",
       "      <td>$18,352,273</td>\n",
       "    </tr>\n",
       "    <tr>\n",
       "      <th>5</th>\n",
       "      <td>Keegan Murray</td>\n",
       "      <td>3.9</td>\n",
       "      <td>9.8</td>\n",
       "      <td>39.8</td>\n",
       "      <td>1.8</td>\n",
       "      <td>5.6</td>\n",
       "      <td>31.7</td>\n",
       "      <td>1.1</td>\n",
       "      <td>1.2</td>\n",
       "      <td>86.4</td>\n",
       "      <td>2.1</td>\n",
       "      <td>4.2</td>\n",
       "      <td>50.7</td>\n",
       "      <td>1.085</td>\n",
       "      <td>0.49</td>\n",
       "      <td>18</td>\n",
       "      <td>16.0</td>\n",
       "      <td>28.6</td>\n",
       "      <td>10.6</td>\n",
       "      <td>0.9</td>\n",
       "      <td>3.1</td>\n",
       "      <td>3.9</td>\n",
       "      <td>0.9</td>\n",
       "      <td>0.7</td>\n",
       "      <td>0.6</td>\n",
       "      <td>1.7</td>\n",
       "      <td>2.1</td>\n",
       "      <td>0.6</td>\n",
       "      <td>$8,008,440</td>\n",
       "    </tr>\n",
       "    <tr>\n",
       "      <th>6</th>\n",
       "      <td>Terence Davis</td>\n",
       "      <td>2.5</td>\n",
       "      <td>5.6</td>\n",
       "      <td>44.9</td>\n",
       "      <td>1.5</td>\n",
       "      <td>3.6</td>\n",
       "      <td>40.6</td>\n",
       "      <td>0.7</td>\n",
       "      <td>0.8</td>\n",
       "      <td>87.5</td>\n",
       "      <td>1.1</td>\n",
       "      <td>2.0</td>\n",
       "      <td>52.6</td>\n",
       "      <td>1.290</td>\n",
       "      <td>0.58</td>\n",
       "      <td>19</td>\n",
       "      <td>1.0</td>\n",
       "      <td>13.3</td>\n",
       "      <td>7.3</td>\n",
       "      <td>0.4</td>\n",
       "      <td>2.6</td>\n",
       "      <td>3.0</td>\n",
       "      <td>1.4</td>\n",
       "      <td>0.7</td>\n",
       "      <td>0.2</td>\n",
       "      <td>0.7</td>\n",
       "      <td>1.8</td>\n",
       "      <td>1.9</td>\n",
       "      <td>$4,000,000</td>\n",
       "    </tr>\n",
       "    <tr>\n",
       "      <th>7</th>\n",
       "      <td>Davion Mitchell</td>\n",
       "      <td>2.7</td>\n",
       "      <td>5.9</td>\n",
       "      <td>46.2</td>\n",
       "      <td>0.9</td>\n",
       "      <td>2.7</td>\n",
       "      <td>34.0</td>\n",
       "      <td>0.4</td>\n",
       "      <td>0.6</td>\n",
       "      <td>72.7</td>\n",
       "      <td>1.8</td>\n",
       "      <td>3.2</td>\n",
       "      <td>56.3</td>\n",
       "      <td>1.145</td>\n",
       "      <td>0.54</td>\n",
       "      <td>20</td>\n",
       "      <td>1.0</td>\n",
       "      <td>19.1</td>\n",
       "      <td>6.7</td>\n",
       "      <td>0.1</td>\n",
       "      <td>1.2</td>\n",
       "      <td>1.3</td>\n",
       "      <td>2.1</td>\n",
       "      <td>0.5</td>\n",
       "      <td>0.2</td>\n",
       "      <td>1.1</td>\n",
       "      <td>1.5</td>\n",
       "      <td>2.0</td>\n",
       "      <td>$4,833,600</td>\n",
       "    </tr>\n",
       "    <tr>\n",
       "      <th>8</th>\n",
       "      <td>Trey Lyles</td>\n",
       "      <td>2.2</td>\n",
       "      <td>5.3</td>\n",
       "      <td>41.2</td>\n",
       "      <td>1.3</td>\n",
       "      <td>3.8</td>\n",
       "      <td>35.0</td>\n",
       "      <td>1.0</td>\n",
       "      <td>1.4</td>\n",
       "      <td>72.7</td>\n",
       "      <td>0.9</td>\n",
       "      <td>1.6</td>\n",
       "      <td>56.0</td>\n",
       "      <td>1.259</td>\n",
       "      <td>0.54</td>\n",
       "      <td>16</td>\n",
       "      <td>0.0</td>\n",
       "      <td>14.7</td>\n",
       "      <td>6.7</td>\n",
       "      <td>1.1</td>\n",
       "      <td>1.8</td>\n",
       "      <td>2.8</td>\n",
       "      <td>0.8</td>\n",
       "      <td>0.4</td>\n",
       "      <td>0.4</td>\n",
       "      <td>1.1</td>\n",
       "      <td>1.1</td>\n",
       "      <td>0.7</td>\n",
       "      <td>$2,700,000</td>\n",
       "    </tr>\n",
       "    <tr>\n",
       "      <th>9</th>\n",
       "      <td>Chimezie Metu</td>\n",
       "      <td>2.3</td>\n",
       "      <td>4.0</td>\n",
       "      <td>57.8</td>\n",
       "      <td>0.2</td>\n",
       "      <td>1.0</td>\n",
       "      <td>18.8</td>\n",
       "      <td>0.6</td>\n",
       "      <td>0.7</td>\n",
       "      <td>90.9</td>\n",
       "      <td>2.1</td>\n",
       "      <td>3.0</td>\n",
       "      <td>70.8</td>\n",
       "      <td>1.359</td>\n",
       "      <td>0.60</td>\n",
       "      <td>16</td>\n",
       "      <td>0.0</td>\n",
       "      <td>12.5</td>\n",
       "      <td>5.4</td>\n",
       "      <td>0.7</td>\n",
       "      <td>2.6</td>\n",
       "      <td>3.3</td>\n",
       "      <td>0.7</td>\n",
       "      <td>0.3</td>\n",
       "      <td>0.2</td>\n",
       "      <td>0.6</td>\n",
       "      <td>1.1</td>\n",
       "      <td>1.1</td>\n",
       "      <td>$1,910,680</td>\n",
       "    </tr>\n",
       "    <tr>\n",
       "      <th>10</th>\n",
       "      <td>Richaun Holmes</td>\n",
       "      <td>1.5</td>\n",
       "      <td>2.2</td>\n",
       "      <td>66.7</td>\n",
       "      <td>0.1</td>\n",
       "      <td>0.2</td>\n",
       "      <td>50.0</td>\n",
       "      <td>0.4</td>\n",
       "      <td>0.5</td>\n",
       "      <td>66.7</td>\n",
       "      <td>1.4</td>\n",
       "      <td>2.0</td>\n",
       "      <td>68.2</td>\n",
       "      <td>1.542</td>\n",
       "      <td>0.69</td>\n",
       "      <td>11</td>\n",
       "      <td>0.0</td>\n",
       "      <td>10.9</td>\n",
       "      <td>3.4</td>\n",
       "      <td>0.7</td>\n",
       "      <td>1.5</td>\n",
       "      <td>2.3</td>\n",
       "      <td>0.0</td>\n",
       "      <td>0.2</td>\n",
       "      <td>0.1</td>\n",
       "      <td>0.5</td>\n",
       "      <td>1.6</td>\n",
       "      <td>0.0</td>\n",
       "      <td>$11,215,260</td>\n",
       "    </tr>\n",
       "    <tr>\n",
       "      <th>11</th>\n",
       "      <td>KZ Okpala</td>\n",
       "      <td>0.6</td>\n",
       "      <td>1.2</td>\n",
       "      <td>50.0</td>\n",
       "      <td>0.3</td>\n",
       "      <td>0.6</td>\n",
       "      <td>42.9</td>\n",
       "      <td>0.3</td>\n",
       "      <td>0.3</td>\n",
       "      <td>100.0</td>\n",
       "      <td>0.3</td>\n",
       "      <td>0.6</td>\n",
       "      <td>57.1</td>\n",
       "      <td>1.500</td>\n",
       "      <td>0.61</td>\n",
       "      <td>12</td>\n",
       "      <td>3.0</td>\n",
       "      <td>7.8</td>\n",
       "      <td>1.8</td>\n",
       "      <td>0.3</td>\n",
       "      <td>0.8</td>\n",
       "      <td>1.2</td>\n",
       "      <td>0.4</td>\n",
       "      <td>0.2</td>\n",
       "      <td>0.2</td>\n",
       "      <td>0.1</td>\n",
       "      <td>1.2</td>\n",
       "      <td>5.0</td>\n",
       "      <td>$1,782,621</td>\n",
       "    </tr>\n",
       "    <tr>\n",
       "      <th>12</th>\n",
       "      <td>Alex Len</td>\n",
       "      <td>0.7</td>\n",
       "      <td>1.0</td>\n",
       "      <td>66.7</td>\n",
       "      <td>0.0</td>\n",
       "      <td>0.0</td>\n",
       "      <td>0.0</td>\n",
       "      <td>0.2</td>\n",
       "      <td>0.3</td>\n",
       "      <td>50.0</td>\n",
       "      <td>0.7</td>\n",
       "      <td>1.0</td>\n",
       "      <td>66.7</td>\n",
       "      <td>1.500</td>\n",
       "      <td>0.67</td>\n",
       "      <td>6</td>\n",
       "      <td>0.0</td>\n",
       "      <td>3.3</td>\n",
       "      <td>1.5</td>\n",
       "      <td>0.5</td>\n",
       "      <td>0.8</td>\n",
       "      <td>1.3</td>\n",
       "      <td>0.2</td>\n",
       "      <td>0.0</td>\n",
       "      <td>0.0</td>\n",
       "      <td>0.0</td>\n",
       "      <td>0.5</td>\n",
       "      <td>inf</td>\n",
       "      <td>$3,918,000</td>\n",
       "    </tr>\n",
       "    <tr>\n",
       "      <th>13</th>\n",
       "      <td>Matthew Dellavedova</td>\n",
       "      <td>0.5</td>\n",
       "      <td>1.8</td>\n",
       "      <td>28.6</td>\n",
       "      <td>0.3</td>\n",
       "      <td>0.6</td>\n",
       "      <td>40.0</td>\n",
       "      <td>0.0</td>\n",
       "      <td>0.1</td>\n",
       "      <td>0.0</td>\n",
       "      <td>0.3</td>\n",
       "      <td>1.1</td>\n",
       "      <td>22.2</td>\n",
       "      <td>0.714</td>\n",
       "      <td>0.36</td>\n",
       "      <td>8</td>\n",
       "      <td>0.0</td>\n",
       "      <td>6.5</td>\n",
       "      <td>1.3</td>\n",
       "      <td>0.1</td>\n",
       "      <td>0.3</td>\n",
       "      <td>0.4</td>\n",
       "      <td>1.3</td>\n",
       "      <td>0.3</td>\n",
       "      <td>0.0</td>\n",
       "      <td>0.5</td>\n",
       "      <td>0.6</td>\n",
       "      <td>2.5</td>\n",
       "      <td>$1,836,090</td>\n",
       "    </tr>\n",
       "    <tr>\n",
       "      <th>14</th>\n",
       "      <td>Chima Moneke</td>\n",
       "      <td>0.5</td>\n",
       "      <td>1.0</td>\n",
       "      <td>50.0</td>\n",
       "      <td>0.0</td>\n",
       "      <td>0.0</td>\n",
       "      <td>0.0</td>\n",
       "      <td>0.0</td>\n",
       "      <td>1.0</td>\n",
       "      <td>0.0</td>\n",
       "      <td>0.5</td>\n",
       "      <td>1.0</td>\n",
       "      <td>50.0</td>\n",
       "      <td>1.000</td>\n",
       "      <td>0.50</td>\n",
       "      <td>2</td>\n",
       "      <td>0.0</td>\n",
       "      <td>4.0</td>\n",
       "      <td>1.0</td>\n",
       "      <td>1.0</td>\n",
       "      <td>0.0</td>\n",
       "      <td>1.0</td>\n",
       "      <td>0.5</td>\n",
       "      <td>0.0</td>\n",
       "      <td>0.0</td>\n",
       "      <td>1.0</td>\n",
       "      <td>1.0</td>\n",
       "      <td>0.5</td>\n",
       "      <td>$1,017,781</td>\n",
       "    </tr>\n",
       "    <tr>\n",
       "      <th>15</th>\n",
       "      <td>Keon Ellis</td>\n",
       "      <td>0.0</td>\n",
       "      <td>0.0</td>\n",
       "      <td>0.0</td>\n",
       "      <td>0.0</td>\n",
       "      <td>0.0</td>\n",
       "      <td>0.0</td>\n",
       "      <td>0.0</td>\n",
       "      <td>0.0</td>\n",
       "      <td>0.0</td>\n",
       "      <td>0.0</td>\n",
       "      <td>0.0</td>\n",
       "      <td>0.0</td>\n",
       "      <td>0.000</td>\n",
       "      <td>0.00</td>\n",
       "      <td>1</td>\n",
       "      <td>0.0</td>\n",
       "      <td>2.0</td>\n",
       "      <td>0.0</td>\n",
       "      <td>0.0</td>\n",
       "      <td>0.0</td>\n",
       "      <td>0.0</td>\n",
       "      <td>0.0</td>\n",
       "      <td>0.0</td>\n",
       "      <td>0.0</td>\n",
       "      <td>0.0</td>\n",
       "      <td>1.0</td>\n",
       "      <td>0.0</td>\n",
       "      <td>--</td>\n",
       "    </tr>\n",
       "  </tbody>\n",
       "</table>\n",
       "</div>"
      ],
      "text/plain": [
       "                   Name  FGM   FGA   FG%  3PM  3PA   3P%  FTM  FTA    FT%  \\\n",
       "0          De'Aaron Fox  8.9  17.0  52.6  1.9  4.9  39.4  4.2  5.1   82.3   \n",
       "1      Domantas Sabonis  6.1  10.4  58.5  0.4  1.2  29.2  4.2  5.7   74.3   \n",
       "2         Kevin Huerter  5.6  11.4  48.9  3.2  7.1  45.1  1.6  2.4   68.1   \n",
       "3            Malik Monk  5.3  10.8  48.8  2.0  5.6  36.0  2.1  2.3   89.1   \n",
       "4       Harrison Barnes  4.0   8.4  47.6  0.9  3.2  28.1  4.3  5.0   86.9   \n",
       "5         Keegan Murray  3.9   9.8  39.8  1.8  5.6  31.7  1.1  1.2   86.4   \n",
       "6         Terence Davis  2.5   5.6  44.9  1.5  3.6  40.6  0.7  0.8   87.5   \n",
       "7       Davion Mitchell  2.7   5.9  46.2  0.9  2.7  34.0  0.4  0.6   72.7   \n",
       "8            Trey Lyles  2.2   5.3  41.2  1.3  3.8  35.0  1.0  1.4   72.7   \n",
       "9         Chimezie Metu  2.3   4.0  57.8  0.2  1.0  18.8  0.6  0.7   90.9   \n",
       "10       Richaun Holmes  1.5   2.2  66.7  0.1  0.2  50.0  0.4  0.5   66.7   \n",
       "11            KZ Okpala  0.6   1.2  50.0  0.3  0.6  42.9  0.3  0.3  100.0   \n",
       "12             Alex Len  0.7   1.0  66.7  0.0  0.0   0.0  0.2  0.3   50.0   \n",
       "13  Matthew Dellavedova  0.5   1.8  28.6  0.3  0.6  40.0  0.0  0.1    0.0   \n",
       "14         Chima Moneke  0.5   1.0  50.0  0.0  0.0   0.0  0.0  1.0    0.0   \n",
       "15           Keon Ellis  0.0   0.0   0.0  0.0  0.0   0.0  0.0  0.0    0.0   \n",
       "\n",
       "    2PM   2PA   2P%  SC-EFF  SH-EFF  GP    GS   MIN   PTS   OR   DR   REB  \\\n",
       "0   7.0  12.1  58.1   1.412    0.58  19  19.0  31.8  24.0  0.5  4.4   4.9   \n",
       "1   5.7   9.2  62.3   1.609    0.60  20  20.0  32.2  16.7  2.2  8.9  11.0   \n",
       "2   2.4   4.3  55.3   1.401    0.63  20  20.0  32.0  15.9  0.4  3.0   3.4   \n",
       "3   3.3   5.2  62.5   1.353    0.58  20   0.0  22.5  14.6  0.4  1.8   2.2   \n",
       "4   3.1   5.2  59.6   1.571    0.53  20  20.0  30.5  13.2  1.1  4.4   5.5   \n",
       "5   2.1   4.2  50.7   1.085    0.49  18  16.0  28.6  10.6  0.9  3.1   3.9   \n",
       "6   1.1   2.0  52.6   1.290    0.58  19   1.0  13.3   7.3  0.4  2.6   3.0   \n",
       "7   1.8   3.2  56.3   1.145    0.54  20   1.0  19.1   6.7  0.1  1.2   1.3   \n",
       "8   0.9   1.6  56.0   1.259    0.54  16   0.0  14.7   6.7  1.1  1.8   2.8   \n",
       "9   2.1   3.0  70.8   1.359    0.60  16   0.0  12.5   5.4  0.7  2.6   3.3   \n",
       "10  1.4   2.0  68.2   1.542    0.69  11   0.0  10.9   3.4  0.7  1.5   2.3   \n",
       "11  0.3   0.6  57.1   1.500    0.61  12   3.0   7.8   1.8  0.3  0.8   1.2   \n",
       "12  0.7   1.0  66.7   1.500    0.67   6   0.0   3.3   1.5  0.5  0.8   1.3   \n",
       "13  0.3   1.1  22.2   0.714    0.36   8   0.0   6.5   1.3  0.1  0.3   0.4   \n",
       "14  0.5   1.0  50.0   1.000    0.50   2   0.0   4.0   1.0  1.0  0.0   1.0   \n",
       "15  0.0   0.0   0.0   0.000    0.00   1   0.0   2.0   0.0  0.0  0.0   0.0   \n",
       "\n",
       "    AST  STL  BLK   TO   PF  AST/TO       Salary  \n",
       "0   6.0  1.1  0.5  2.6  2.7     2.3  $28,103,550  \n",
       "1   6.4  0.8  0.5  2.6  3.8     2.5  $18,500,000  \n",
       "2   3.2  1.1  0.5  1.6  2.4     2.1  $14,508,929  \n",
       "3   4.4  0.7  0.2  1.9  1.8     2.3   $9,472,219  \n",
       "4   2.0  0.9  0.2  1.2  1.5     1.7  $18,352,273  \n",
       "5   0.9  0.7  0.6  1.7  2.1     0.6   $8,008,440  \n",
       "6   1.4  0.7  0.2  0.7  1.8     1.9   $4,000,000  \n",
       "7   2.1  0.5  0.2  1.1  1.5     2.0   $4,833,600  \n",
       "8   0.8  0.4  0.4  1.1  1.1     0.7   $2,700,000  \n",
       "9   0.7  0.3  0.2  0.6  1.1     1.1   $1,910,680  \n",
       "10  0.0  0.2  0.1  0.5  1.6     0.0  $11,215,260  \n",
       "11  0.4  0.2  0.2  0.1  1.2     5.0   $1,782,621  \n",
       "12  0.2  0.0  0.0  0.0  0.5     inf   $3,918,000  \n",
       "13  1.3  0.3  0.0  0.5  0.6     2.5   $1,836,090  \n",
       "14  0.5  0.0  0.0  1.0  1.0     0.5   $1,017,781  \n",
       "15  0.0  0.0  0.0  0.0  1.0     0.0           --  "
      ]
     },
     "execution_count": 4,
     "metadata": {},
     "output_type": "execute_result"
    }
   ],
   "source": [
    "kings_final_df"
   ]
  },
  {
   "cell_type": "code",
   "execution_count": null,
   "id": "61759786",
   "metadata": {},
   "outputs": [],
   "source": [
    "import plotnine as p9\n",
    "import numpy as np\n",
    "import statsmodels.api as sm \n",
    "import pandas as pd\n",
    "import re\n",
    "pd.set_option('display.max_columns', None)\n",
    "pd.set_option('display.max_rows', None)\n",
    "pd.set_option('display.float_format', lambda x: '%.5f' % x)"
   ]
  },
  {
   "cell_type": "markdown",
   "id": "c4cd139a",
   "metadata": {},
   "source": [
    "### DATA CLEANING"
   ]
  },
  {
   "cell_type": "code",
   "execution_count": null,
   "id": "5bc6b033",
   "metadata": {},
   "outputs": [],
   "source": [
    "df = player_stats_shoot_salary_temp\n",
    "df_names = df[\"Name\"]\n",
    "df"
   ]
  },
  {
   "cell_type": "code",
   "execution_count": null,
   "id": "c41d0bf4",
   "metadata": {},
   "outputs": [],
   "source": [
    "kings_df = kings_final_df\n",
    "kings_df"
   ]
  },
  {
   "cell_type": "code",
   "execution_count": null,
   "id": "278dda45",
   "metadata": {},
   "outputs": [],
   "source": [
    "def df_clean(df):\n",
    "    df = df.drop(\"Name\", axis = \"columns\").dropna()\n",
    "    drop_df = df[df[\"AST/TO\"].isin([np.inf, -np.inf])]\n",
    "    df = df.drop(drop_df.index)\n",
    "    for name in df.columns:\n",
    "        if name in [\"FGM\",\"FGA\",\"3PM\",\"3PA\",\"2PM\",\"2PA\",\"FTM\",\"FTA\"]:\n",
    "            df = df.drop(name, axis = \"columns\") \n",
    "    return df\n"
   ]
  },
  {
   "cell_type": "code",
   "execution_count": null,
   "id": "dec0edd4",
   "metadata": {},
   "outputs": [],
   "source": [
    "df = df_clean(df)"
   ]
  },
  {
   "cell_type": "code",
   "execution_count": null,
   "id": "81811145",
   "metadata": {},
   "outputs": [],
   "source": [
    "for name in df.columns:\n",
    "\n",
    "    if name in [\"FGM\",\"FGA\",\"3PM\",\"3PA\",\"2PM\",\"2PA\",\"FTM\",\"FTA\"]:\n",
    "        df = df.drop(name, axis = \"columns\")\n",
    "    \n",
    "df"
   ]
  },
  {
   "cell_type": "markdown",
   "id": "51f8b1b6",
   "metadata": {},
   "source": [
    "### MODEL BUILDING"
   ]
  },
  {
   "cell_type": "code",
   "execution_count": null,
   "id": "c9868e44",
   "metadata": {},
   "outputs": [],
   "source": [
    "df = sm.add_constant(df)"
   ]
  },
  {
   "cell_type": "code",
   "execution_count": null,
   "id": "f69f23c6",
   "metadata": {},
   "outputs": [],
   "source": [
    "ols = sm.OLS(np.log(df['Salary']),df.drop(columns = 'Salary')) \n",
    "ols_res = ols.fit() "
   ]
  },
  {
   "cell_type": "code",
   "execution_count": null,
   "id": "346cbcb3",
   "metadata": {
    "scrolled": false
   },
   "outputs": [],
   "source": [
    "ols_res.summary()"
   ]
  },
  {
   "cell_type": "code",
   "execution_count": null,
   "id": "6c8da50b",
   "metadata": {},
   "outputs": [],
   "source": [
    "df = df.drop(\"OR\", axis = \"columns\")"
   ]
  },
  {
   "cell_type": "code",
   "execution_count": null,
   "id": "54580267",
   "metadata": {},
   "outputs": [],
   "source": [
    "df = df.drop(\"STL\", axis = \"columns\")"
   ]
  },
  {
   "cell_type": "code",
   "execution_count": null,
   "id": "339fd70a",
   "metadata": {},
   "outputs": [],
   "source": [
    "df = df.drop(\"PF\", axis = \"columns\")"
   ]
  },
  {
   "cell_type": "code",
   "execution_count": null,
   "id": "794f1163",
   "metadata": {},
   "outputs": [],
   "source": [
    "df = df.drop(\"TO\", axis = \"columns\")"
   ]
  },
  {
   "cell_type": "code",
   "execution_count": null,
   "id": "8b3b0612",
   "metadata": {},
   "outputs": [],
   "source": [
    "df = df.drop(\"BLK\", axis = \"columns\") #.473"
   ]
  },
  {
   "cell_type": "code",
   "execution_count": null,
   "id": "ad615c9f",
   "metadata": {},
   "outputs": [],
   "source": [
    "df = df.drop(\"FG%\", axis = \"columns\")"
   ]
  },
  {
   "cell_type": "code",
   "execution_count": null,
   "id": "a5c38d08",
   "metadata": {},
   "outputs": [],
   "source": [
    "df = df.drop(\"AST/TO\", axis = \"columns\")"
   ]
  },
  {
   "cell_type": "code",
   "execution_count": null,
   "id": "87dffee0",
   "metadata": {},
   "outputs": [],
   "source": [
    "df = df.drop(\"SH-EFF\", axis = \"columns\")"
   ]
  },
  {
   "cell_type": "code",
   "execution_count": null,
   "id": "a660b266",
   "metadata": {},
   "outputs": [],
   "source": [
    "df = df.drop(\"GS\", axis = \"columns\") #.482"
   ]
  },
  {
   "cell_type": "code",
   "execution_count": null,
   "id": "2b5528ff",
   "metadata": {},
   "outputs": [],
   "source": [
    "df = df.drop(\"REB\", axis = \"columns\") "
   ]
  },
  {
   "cell_type": "code",
   "execution_count": null,
   "id": "48c1663a",
   "metadata": {},
   "outputs": [],
   "source": [
    "df = df.drop(\"3P%\", axis = \"columns\")"
   ]
  },
  {
   "cell_type": "code",
   "execution_count": null,
   "id": "81c0ddd0",
   "metadata": {},
   "outputs": [],
   "source": [
    "df = df.drop(\"PER\", axis = \"columns\")"
   ]
  },
  {
   "cell_type": "code",
   "execution_count": null,
   "id": "77cfd323",
   "metadata": {},
   "outputs": [],
   "source": [
    "#df = df.drop(\"SC-EFF\", axis = \"columns\")"
   ]
  },
  {
   "cell_type": "markdown",
   "id": "26c23325",
   "metadata": {},
   "source": [
    "### REMOVING OUTLIERS"
   ]
  },
  {
   "cell_type": "code",
   "execution_count": null,
   "id": "6927760a",
   "metadata": {},
   "outputs": [],
   "source": [
    "#ols_res.resid_pearson[ols_res.resid_pearson < -5]"
   ]
  },
  {
   "cell_type": "code",
   "execution_count": null,
   "id": "fb4e46d5",
   "metadata": {},
   "outputs": [],
   "source": [
    "#ols_res.predict()[ols_res.resid_pearson < -4]"
   ]
  },
  {
   "cell_type": "code",
   "execution_count": null,
   "id": "a481bb00",
   "metadata": {},
   "outputs": [],
   "source": [
    "#df[\"Residuals\"] = ols_res.resid_pearson"
   ]
  },
  {
   "cell_type": "code",
   "execution_count": null,
   "id": "207bc286",
   "metadata": {},
   "outputs": [],
   "source": [
    "\n",
    "#temp_df = df[round(df[\"Residuals\"]) < -4]\n",
    "#df = df.drop(temp_df.index)"
   ]
  },
  {
   "cell_type": "code",
   "execution_count": null,
   "id": "a4368d0b",
   "metadata": {},
   "outputs": [],
   "source": [
    "#temp_df"
   ]
  },
  {
   "cell_type": "code",
   "execution_count": null,
   "id": "26f063c5",
   "metadata": {},
   "outputs": [],
   "source": [
    "#df = df.drop(\"Residuals\", axis = \"columns\")"
   ]
  },
  {
   "cell_type": "markdown",
   "id": "d4a5743e",
   "metadata": {},
   "source": [
    "### MODEL SELECTION"
   ]
  },
  {
   "cell_type": "code",
   "execution_count": null,
   "id": "644f70f5",
   "metadata": {},
   "outputs": [],
   "source": [
    "#df = df.drop(\"MIN\", axis = \"columns\")"
   ]
  },
  {
   "cell_type": "code",
   "execution_count": null,
   "id": "482528e6",
   "metadata": {},
   "outputs": [],
   "source": [
    "#df = df.drop(\"SC-EFF\", axis = \"columns\")"
   ]
  },
  {
   "cell_type": "code",
   "execution_count": null,
   "id": "3624e9b5",
   "metadata": {},
   "outputs": [],
   "source": [
    "#df = df.drop(\"BLK\", axis = \"columns\")"
   ]
  },
  {
   "cell_type": "code",
   "execution_count": null,
   "id": "900f8e81",
   "metadata": {},
   "outputs": [],
   "source": [
    "#df = df.drop(\"GS\", axis = \"columns\")"
   ]
  },
  {
   "cell_type": "code",
   "execution_count": null,
   "id": "a1420568",
   "metadata": {},
   "outputs": [],
   "source": [
    "#df = df.drop(\"2P%\", axis = \"columns\")"
   ]
  },
  {
   "cell_type": "code",
   "execution_count": null,
   "id": "1265d1b5",
   "metadata": {},
   "outputs": [],
   "source": [
    "#df = df.drop(\"FT%\", axis = \"columns\")"
   ]
  },
  {
   "cell_type": "code",
   "execution_count": null,
   "id": "159852b6",
   "metadata": {},
   "outputs": [],
   "source": [
    "#df = df.drop(\"TO\", axis = \"columns\")"
   ]
  },
  {
   "cell_type": "code",
   "execution_count": null,
   "id": "169d15fe",
   "metadata": {},
   "outputs": [],
   "source": [
    "#df = df.drop(\"AST/TO\", axis = \"columns\")"
   ]
  },
  {
   "cell_type": "code",
   "execution_count": null,
   "id": "43a05f84",
   "metadata": {},
   "outputs": [],
   "source": [
    "#df = df.drop(\"PF\", axis = \"columns\")"
   ]
  },
  {
   "cell_type": "code",
   "execution_count": null,
   "id": "55b24835",
   "metadata": {},
   "outputs": [],
   "source": [
    "#df = df.drop(\"PER\", axis = \"columns\")"
   ]
  },
  {
   "cell_type": "code",
   "execution_count": null,
   "id": "6ece696a",
   "metadata": {},
   "outputs": [],
   "source": [
    "#df = df.drop(\"SH-EFF\", axis = \"columns\")"
   ]
  },
  {
   "cell_type": "code",
   "execution_count": null,
   "id": "ba88aadd",
   "metadata": {},
   "outputs": [],
   "source": [
    "#df = df.drop(\"3P%\", axis = \"columns\") #adj R squared max"
   ]
  },
  {
   "cell_type": "code",
   "execution_count": null,
   "id": "a13d89c7",
   "metadata": {},
   "outputs": [],
   "source": [
    "ols = sm.OLS(np.log(df['Salary']),df.drop(columns = 'Salary')) \n",
    "ols_res = ols.fit() \n",
    "ols_res.summary()"
   ]
  },
  {
   "cell_type": "code",
   "execution_count": null,
   "id": "20f10d15",
   "metadata": {},
   "outputs": [],
   "source": [
    "#ols_res.predict(kings_df.drop(columns = 'Salary'))"
   ]
  },
  {
   "cell_type": "markdown",
   "id": "0655c4d2",
   "metadata": {},
   "source": [
    "### DIAGNOSTIC PLOTS"
   ]
  },
  {
   "cell_type": "code",
   "execution_count": null,
   "id": "5810db8f",
   "metadata": {},
   "outputs": [],
   "source": [
    "(\n",
    "    p9.ggplot(mapping = p9.aes(x = 'ols_res.fittedvalues', \n",
    "                                            y = \"ols_res.resid_pearson\"))\n",
    "    + p9.geom_point()\n",
    "    + p9.geom_smooth(color = \"red\")\n",
    "    + p9.labs(title = \"Fitted vs Residuals\", x = 'Fitted values', y = 'Residuals')\n",
    ")"
   ]
  },
  {
   "cell_type": "code",
   "execution_count": null,
   "id": "6ab5b44d",
   "metadata": {},
   "outputs": [],
   "source": [
    "(\n",
    "    p9.ggplot(mapping = p9.aes(sample = \"ols_res.resid_pearson\"))\n",
    "    + p9.geom_abline(p9.aes(intercept = 0, slope = 1), color = 'red')\n",
    "    + p9.stats.stat_qq()\n",
    "    + p9.labs(title = \"QQ-Plot with Pearson Residuals\")\n",
    ")"
   ]
  },
  {
   "cell_type": "code",
   "execution_count": null,
   "id": "95a583bb",
   "metadata": {},
   "outputs": [],
   "source": [
    "df[\"Residuals\"] = ols_res.resid_pearson\n",
    "temp_df2 = df[round(df[\"Residuals\"]) < -2]\n",
    "temp_df2"
   ]
  },
  {
   "cell_type": "code",
   "execution_count": null,
   "id": "08760172",
   "metadata": {},
   "outputs": [],
   "source": [
    "df = df.drop(temp_df2.index)\n",
    "df = df.drop(\"Residuals\", axis = \"columns\")"
   ]
  },
  {
   "cell_type": "code",
   "execution_count": null,
   "id": "e26e10ca",
   "metadata": {},
   "outputs": [],
   "source": [
    "ols = sm.OLS(np.log(df['Salary']),df.drop(columns = 'Salary')) \n",
    "ols_res = ols.fit() \n",
    "ols_res.summary() "
   ]
  },
  {
   "cell_type": "code",
   "execution_count": null,
   "id": "094a91b8",
   "metadata": {},
   "outputs": [],
   "source": [
    "(\n",
    "    p9.ggplot(mapping = p9.aes(x = 'ols_res.fittedvalues', \n",
    "                                            y = \"ols_res.resid_pearson\"))\n",
    "    + p9.geom_point()\n",
    "    + p9.geom_smooth(color = \"red\")\n",
    "    + p9.labs(title = \"Fitted vs Residuals\", x = 'Fitted values', y = 'Residuals')\n",
    ")"
   ]
  },
  {
   "cell_type": "code",
   "execution_count": null,
   "id": "31cc51ca",
   "metadata": {},
   "outputs": [],
   "source": [
    "(\n",
    "    p9.ggplot(mapping = p9.aes(sample = \"ols_res.resid_pearson\"))\n",
    "    + p9.geom_abline(p9.aes(intercept = 0, slope = 1), color = 'red')\n",
    "    + p9.stats.stat_qq()\n",
    "    + p9.labs(title = \"QQ-Plot with Pearson Residuals\")\n",
    ")"
   ]
  },
  {
   "cell_type": "markdown",
   "id": "9450ea1e",
   "metadata": {},
   "source": [
    "### KINGS"
   ]
  },
  {
   "cell_type": "code",
   "execution_count": null,
   "id": "902e4882",
   "metadata": {},
   "outputs": [],
   "source": [
    "kings_df"
   ]
  },
  {
   "cell_type": "code",
   "execution_count": null,
   "id": "57800982",
   "metadata": {},
   "outputs": [],
   "source": [
    "rearrange = kings_df.iloc[:,0:15]\n",
    "rearrange_no_name = rearrange.iloc[:,1:]\n",
    "rearrange"
   ]
  },
  {
   "cell_type": "code",
   "execution_count": null,
   "id": "00b243b5",
   "metadata": {},
   "outputs": [],
   "source": [
    "kings_df = kings_df.drop(rearrange_no_name, axis = \"columns\")\n",
    "kings_df"
   ]
  },
  {
   "cell_type": "code",
   "execution_count": null,
   "id": "ba84d350",
   "metadata": {},
   "outputs": [],
   "source": [
    "kings_df = pd.merge(kings_df,rearrange, how = \"left\", on = \"Name\")\n",
    "salary = kings_df.pop(\"Salary\")\n",
    "kings_df = pd.concat([kings_df, salary], axis = 'columns')"
   ]
  },
  {
   "cell_type": "code",
   "execution_count": null,
   "id": "ce0dac66",
   "metadata": {},
   "outputs": [],
   "source": [
    "kings_df"
   ]
  },
  {
   "cell_type": "code",
   "execution_count": null,
   "id": "2f2890b0",
   "metadata": {},
   "outputs": [],
   "source": [
    "#replace all the \"--\" and NAN to 0\n",
    "\n",
    "kings_df['Salary'] = kings_df['Salary'].replace(\"--\", '0')\n",
    "kings_df['Salary'] = kings_df['Salary'].replace(np.NaN, '0')\n",
    "#remove $ and , signals\n",
    "for i in range(0,len(kings_df)):\n",
    "    kings_df['Salary'][i] = kings_df['Salary'][i].lstrip('$')\n",
    "    kings_df['Salary'][i] = kings_df['Salary'][i].replace(',','')\n",
    "    #turn Salary to numbers\n",
    "    kings_df['Salary'][i] = int(kings_df['Salary'][i])\n",
    "#replace all 0 to NAN\n",
    "kings_df['Salary'] = kings_df['Salary'].replace(0, np.NaN)\n",
    "#drop all NAN\n",
    "kings_df = kings_df.dropna()"
   ]
  },
  {
   "cell_type": "code",
   "execution_count": null,
   "id": "09ab0acd",
   "metadata": {},
   "outputs": [],
   "source": [
    "kings_names = kings_df[\"Name\"]"
   ]
  },
  {
   "cell_type": "code",
   "execution_count": null,
   "id": "b27d8cbe",
   "metadata": {
    "scrolled": true
   },
   "outputs": [],
   "source": [
    "kings_df"
   ]
  },
  {
   "cell_type": "code",
   "execution_count": null,
   "id": "9df9fea4",
   "metadata": {},
   "outputs": [],
   "source": [
    "kings_df = df_clean(kings_df)"
   ]
  },
  {
   "cell_type": "code",
   "execution_count": null,
   "id": "de05533a",
   "metadata": {},
   "outputs": [],
   "source": [
    "#Model Selection\n",
    "#kings_df = kings_df.drop(\"MIN\", axis = \"columns\")\n",
    "#kings_df = kings_df.drop(\"SC-EFF\", axis = \"columns\")\n",
    "#kings_df = kings_df.drop(\"BLK\", axis = \"columns\")\n",
    "#kings_df = kings_df.drop(\"GS\", axis = \"columns\")\n",
    "#kings_df = kings_df.drop(\"2P%\", axis = \"columns\")\n",
    "#kings_df = kings_df.drop(\"FT%\", axis = \"columns\")\n",
    "#kings_df = kings_df.drop(\"TO\", axis = \"columns\")\n",
    "#kings_df = kings_df.drop(\"AST/TO\", axis = \"columns\")\n",
    "#kings_df = kings_df.drop(\"PF\", axis = \"columns\")\n",
    "#kings_df = kings_df.drop(\"PER\", axis = \"columns\")\n",
    "#kings_df = kings_df.drop(\"SH-EFF\", axis = \"columns\")\n",
    "#kings_df = kings_df.drop(\"3P%\", axis = \"columns\")"
   ]
  },
  {
   "cell_type": "code",
   "execution_count": null,
   "id": "c1d96768",
   "metadata": {},
   "outputs": [],
   "source": [
    "kings_df = kings_df.drop(\"OR\", axis = \"columns\")\n",
    "kings_df = kings_df.drop(\"STL\", axis = \"columns\")\n",
    "kings_df = kings_df.drop(\"PF\", axis = \"columns\")\n",
    "kings_df = kings_df.drop(\"TO\", axis = \"columns\")\n",
    "kings_df = kings_df.drop(\"BLK\", axis = \"columns\")\n",
    "kings_df = kings_df.drop(\"FG%\", axis = \"columns\")\n",
    "kings_df = kings_df.drop(\"AST/TO\", axis = \"columns\")\n",
    "kings_df = kings_df.drop(\"SH-EFF\", axis = \"columns\")\n",
    "kings_df = kings_df.drop(\"GS\", axis = \"columns\")\n",
    "kings_df = kings_df.drop(\"REB\", axis = \"columns\") \n",
    "kings_df = kings_df.drop(\"3P%\", axis = \"columns\")\n",
    "kings_df = kings_df.drop(\"PER\", axis = \"columns\")\n",
    "#kings_df = kings_df.drop(\"SC-EFF\", axis = \"columns\")"
   ]
  },
  {
   "cell_type": "code",
   "execution_count": null,
   "id": "39d4bd7a",
   "metadata": {},
   "outputs": [],
   "source": [
    "kings_df = sm.add_constant(kings_df)"
   ]
  },
  {
   "cell_type": "code",
   "execution_count": null,
   "id": "3404d010",
   "metadata": {},
   "outputs": [],
   "source": [
    "kings_df[\"GP\"] = kings_df[\"GP\"].astype(\"float64\")"
   ]
  },
  {
   "cell_type": "code",
   "execution_count": null,
   "id": "08b50b4d",
   "metadata": {},
   "outputs": [],
   "source": [
    "ols_res.predict(kings_df.drop(columns = 'Salary'))"
   ]
  },
  {
   "cell_type": "markdown",
   "id": "ca13bd49",
   "metadata": {},
   "source": [
    "DO I NEED THIS? DON'T I JUST USE THE PREDICTED VALUES FROM THE OTHER MODEL?"
   ]
  },
  {
   "cell_type": "code",
   "execution_count": null,
   "id": "d50087a6",
   "metadata": {},
   "outputs": [],
   "source": [
    "#kings_ols = sm.OLS(np.log(kings_df['Salary']),kings_df.drop(columns = 'Salary')) \n",
    "#kings_ols_res = kings_ols.fit() \n",
    "#kings_ols_res.summary()"
   ]
  },
  {
   "cell_type": "code",
   "execution_count": null,
   "id": "7ae4bcc6",
   "metadata": {},
   "outputs": [],
   "source": [
    "kings_df[\"Predicted\"] = np.exp(ols_res.predict(kings_df.drop(columns = 'Salary')))\n",
    "kings_df.insert(0,\"Names\",kings_names)\n",
    "kings_df[\"Residuals\"]= kings_df[\"Salary\"]-kings_df[\"Predicted\"]"
   ]
  },
  {
   "cell_type": "code",
   "execution_count": null,
   "id": "cb362098",
   "metadata": {
    "scrolled": true
   },
   "outputs": [],
   "source": [
    "kings_df"
   ]
  },
  {
   "cell_type": "code",
   "execution_count": null,
   "id": "74bbce50",
   "metadata": {},
   "outputs": [],
   "source": [
    "kings_df[\"Residuals\"].sum()"
   ]
  },
  {
   "cell_type": "code",
   "execution_count": null,
   "id": "6ff93876",
   "metadata": {
    "scrolled": true
   },
   "outputs": [],
   "source": [
    "kings_df[\"Salary\"] = np.log(kings_df[\"Salary\"])\n",
    "kings_df[\"Predicted\"] =  np.log(kings_df[\"Predicted\"])\n",
    "kings_df[\"Residuals\"]= kings_df[\"Salary\"]-kings_df[\"Predicted\"]\n",
    "kings_df"
   ]
  },
  {
   "cell_type": "code",
   "execution_count": null,
   "id": "ecc7f832",
   "metadata": {},
   "outputs": [],
   "source": [
    "kings_df[\"Residuals\"].sum()"
   ]
  },
  {
   "cell_type": "markdown",
   "id": "365cc1f5",
   "metadata": {},
   "source": [
    "(\n",
    "    p9.ggplot(mapping = p9.aes(x = 'kings_ols_res.fittedvalues', \n",
    "                                            y = \"kings_ols_res.resid_pearson\"))\n",
    "    + p9.geom_point()\n",
    "    + p9.labs(title = \"Fitted vs Residuals\", x = 'Fitted values', y = 'Residuals')\n",
    ")"
   ]
  },
  {
   "cell_type": "markdown",
   "id": "41151ca9",
   "metadata": {},
   "source": [
    "(\n",
    "    p9.ggplot(mapping = p9.aes(sample = \"kings_ols_res.resid_pearson\"))\n",
    "    + p9.geom_abline(p9.aes(intercept = 0, slope = 1), color = 'red')\n",
    "    + p9.stats.stat_qq()\n",
    "    + p9.labs(title = \"QQ-Plot with Pearson Residuals\")\n",
    ")"
   ]
  },
  {
   "cell_type": "code",
   "execution_count": null,
   "id": "594cbd9c",
   "metadata": {},
   "outputs": [],
   "source": [
    "# Look up specific player\n",
    "df.insert(0,\"Names\",df_names)\n",
    "df[\"Predicted\"] = np.exp(ols_res.predict())"
   ]
  },
  {
   "cell_type": "code",
   "execution_count": null,
   "id": "f255994f",
   "metadata": {},
   "outputs": [],
   "source": [
    "df[df[\"Names\"]==\"Anthony Davis\"]\n",
    "df"
   ]
  }
 ],
 "metadata": {
  "kernelspec": {
   "display_name": "Python 3 (ipykernel)",
   "language": "python",
   "name": "python3"
  },
  "language_info": {
   "codemirror_mode": {
    "name": "ipython",
    "version": 3
   },
   "file_extension": ".py",
   "mimetype": "text/x-python",
   "name": "python",
   "nbconvert_exporter": "python",
   "pygments_lexer": "ipython3",
   "version": "3.9.12"
  }
 },
 "nbformat": 4,
 "nbformat_minor": 5
}

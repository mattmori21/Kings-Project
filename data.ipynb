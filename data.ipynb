{
 "cells": [
  {
   "cell_type": "code",
   "execution_count": null,
   "id": "e317eebd",
   "metadata": {},
   "outputs": [],
   "source": [
    "import requests as rq\n",
    "import lxml.html as lx\n",
    "import pandas as pd\n",
    "import re\n",
    "import matplotlib.pyplot as plt\n",
    "import numpy as np\n",
    "from statistics import mean\n",
    "import math\n",
    "\n",
    "\n",
    "\n"
   ]
  },
  {
   "cell_type": "markdown",
   "id": "c7c007f8",
   "metadata": {},
   "source": [
    "## Obtain Kings Players Stats + Salary"
   ]
  },
  {
   "cell_type": "code",
   "execution_count": null,
   "id": "22d72969",
   "metadata": {},
   "outputs": [],
   "source": [
    "#read html + make df for general stats\n",
    "url = 'https://www.espn.com/nba/team/stats/_/name/sac/salary'\n",
    "names = pd.read_html(url)[0]\n",
    "stats = pd.read_html(url)[1]\n",
    "kings_stats_temp = pd.concat([names,stats],axis = \"columns\")\n",
    "kings_stats_temp"
   ]
  },
  {
   "cell_type": "code",
   "execution_count": null,
   "id": "8422c284",
   "metadata": {},
   "outputs": [],
   "source": [
    "def remove_positions(df):\n",
    "    '''Removes The position indicator after each player's name (i.e. PG, PF, SG), also drops the \"Total\" row as it's not needed.'''\n",
    "    words = []\n",
    "    for i in df[\"Name\"]:\n",
    "        words.append(i.split()[0:2])\n",
    "    words = pd.DataFrame(words)\n",
    "    words.columns = [\"First\",\"Last\"]\n",
    "    words[\"Names\"] = words['First']+\" \"+ words[\"Last\"]\n",
    "    words = words.drop(\"First\", axis = 1).drop(\"Last\", axis = 1)\n",
    "    df[\"Name\"] = words\n",
    "    #df = df.drop(16)\n",
    "    df = df.dropna().reset_index().drop(\"index\", axis = \"columns\")\n",
    "    return df\n",
    "\n",
    "kings_stats = remove_positions(kings_stats_temp)\n",
    "kings_stats"
   ]
  },
  {
   "cell_type": "code",
   "execution_count": null,
   "id": "3bd1eded",
   "metadata": {},
   "outputs": [],
   "source": [
    "# read html + make df for shooting stats\n",
    "shoot = pd.read_html(url)[3]\n",
    "kings_shoot_stats_temp = pd.concat([names,shoot], axis = \"columns\")"
   ]
  },
  {
   "cell_type": "code",
   "execution_count": null,
   "id": "12c1d922",
   "metadata": {},
   "outputs": [],
   "source": [
    "kings_shoot_stats = remove_positions(kings_shoot_stats_temp)\n",
    "kings_shoot_stats"
   ]
  },
  {
   "cell_type": "code",
   "execution_count": null,
   "id": "08fe51d3",
   "metadata": {},
   "outputs": [],
   "source": [
    "#create salary df\n",
    "url2 = \"https://www.espn.com/nba/team/roster/_/name/sac/salary\"\n",
    "kings_salary_raw = pd.read_html(url2)[0]"
   ]
  },
  {
   "cell_type": "code",
   "execution_count": null,
   "id": "1b4a5c58",
   "metadata": {},
   "outputs": [],
   "source": [
    "#Strips player number from each players name\n",
    "for i in range(0,len(kings_salary_raw)):\n",
    "    kings_salary_raw[\"Name\"][i] = re.sub(r\"\\d+\", \"\", str(kings_salary_raw[\"Name\"][i]))"
   ]
  },
  {
   "cell_type": "code",
   "execution_count": null,
   "id": "7c74e758",
   "metadata": {},
   "outputs": [],
   "source": [
    "#Cleans dataframe to only player name + salary\n",
    "kings_salary = kings_salary_raw.set_index(\"Name\").drop('Unnamed: 0', axis = 1)\n",
    "kings_salary.columns\n",
    "kings_salary = kings_salary.drop(['POS', 'Age', 'HT', 'WT', 'College'], axis = 1)\n",
    "kings_salary"
   ]
  },
  {
   "cell_type": "code",
   "execution_count": null,
   "id": "385a826c",
   "metadata": {},
   "outputs": [],
   "source": [
    "#combine player stats df and salary df as kings_stats_salary. \n",
    "pd.set_option('display.max_columns', None)\n",
    "kings_stats_salary = kings_stats.join(kings_salary, on = \"Name\")\n",
    "kings_stats_salary"
   ]
  },
  {
   "cell_type": "code",
   "execution_count": null,
   "id": "1c5f4825",
   "metadata": {},
   "outputs": [],
   "source": [
    "#combine kings shooting stats df with \"kings_stats_salary\".\n",
    "kings_player_shooting_salary = pd.merge(kings_stats_salary,kings_shoot_stats, how = \"left\", on = \"Name\")\n",
    "kings_player_shooting_salary"
   ]
  },
  {
   "cell_type": "code",
   "execution_count": null,
   "id": "514082bc",
   "metadata": {},
   "outputs": [],
   "source": [
    "#Rearrange salary to column to go at the end.\n",
    "salary = kings_player_shooting_salary.pop(\"Salary\")\n",
    "kings_final_df = pd.concat([kings_player_shooting_salary, salary], axis = 'columns')\n",
    "kings_final_df"
   ]
  },
  {
   "cell_type": "markdown",
   "id": "91e84bd6",
   "metadata": {},
   "source": [
    "#combine shooting stats df and salary df. \n",
    "kings_stats_salary = kings_shoot_stats.join(kings_salary, on = \"Name\")\n",
    "kings_stats_salary"
   ]
  },
  {
   "cell_type": "markdown",
   "id": "9a86d47c",
   "metadata": {},
   "source": [
    "#Merging salary into player and shooting stats dataframe, then moving the \"salary\" column to the end.\n",
    "pd.set_option('display.max_columns', None)\n",
    "kings_player_shooting_salary = pd.merge(kings_stats_salary,kings_stats, how = \"left\", on = \"Name\")\n",
    "salary = kings_player_shooting_salary.pop(\"Salary\")\n",
    "kings_final_df = pd.concat([kings_player_shooting_salary, salary], axis = 'columns')\n",
    "\n",
    "\n",
    "\n",
    "kings_final_df"
   ]
  },
  {
   "cell_type": "markdown",
   "id": "c656014e",
   "metadata": {},
   "source": [
    "## Obtain NBA Team Stats"
   ]
  },
  {
   "cell_type": "code",
   "execution_count": null,
   "id": "67285418",
   "metadata": {},
   "outputs": [],
   "source": [
    "nbateamstats = pd.DataFrame()\n",
    "for i in range(2023,2018, -1):\n",
    "    tempurl = \"https://www.espn.com/nba/stats/team/_/view/opponent/season/\"+str(i)+\"/seasontype/2\"\n",
    "    team_names = pd.read_html(tempurl)[0]\n",
    "    team_stats = pd.read_html(tempurl)[1]\n",
    "    team_stats\n",
    "    team_concat = pd.concat([team_names,team_stats],axis = \"columns\")\n",
    "    team_concat['Team'] = str(i) + \" \" + team_concat['Team'].astype(str)\n",
    "    nbateamstats = pd.concat([nbateamstats, team_concat], ignore_index = True)\n",
    "nbateamstats"
   ]
  },
  {
   "cell_type": "code",
   "execution_count": null,
   "id": "f4e41774",
   "metadata": {},
   "outputs": [],
   "source": [
    "nbateams = pd.read_html(\"https://www.espn.com/nba/stats/team/_/view/opponent/season/2023/seasontype/2\")[0][\"Team\"]\n",
    "nbateams"
   ]
  },
  {
   "cell_type": "code",
   "execution_count": null,
   "id": "6894ee84",
   "metadata": {},
   "outputs": [],
   "source": [
    "def clean_teams(team, stats):\n",
    "    #Function fixes errors caused by read_html function. Makes the \"row header\" back into the first row\n",
    "    team1 = team.columns[0] \n",
    "    team.columns = [\"Team\"]\n",
    "    new_row = pd.DataFrame({team.columns[0]:team1}, index=[0])\n",
    "    team = pd.concat([new_row,team.loc[:]]).reset_index(drop=True)\n",
    "    #Standardizes NBA team names across dataframes to allow easy joining between them\n",
    "    for i in range(0, len(team.iloc[:,0])):\n",
    "        for teamname in nbateams:\n",
    "            if team.iloc[:,0][i].__contains__(teamname):\n",
    "                team.iloc[:,0][i] = teamname\n",
    "                break\n",
    "            else:\n",
    "                continue\n",
    "    result = team.join(stats.iloc[:,0:2])\n",
    "    return(result)\n",
    "    \n",
    "def add_playoff_status(df, year):\n",
    "    #df input: conference standings (15 teams) ranked in order by wins\n",
    "    #creates new variable that shows if a certain team made the playoffs \n",
    "    #2023 is the current season and the playoffs have not happened yet, therefore NaN\n",
    "    if year == 2023:\n",
    "        df[\"Made Playoffs\"] = math.nan\n",
    "        return(df)\n",
    "    df[\"Made Playoffs\"] = int(0)\n",
    "    #2019-20 top 8 teams per conference made playoffs\n",
    "    if year in [2019, 2020]:\n",
    "        for index in df.index:\n",
    "            if index < 8:\n",
    "                df.iloc[index,3] = int(1)\n",
    "    #2021-22 top 10 teams per conference made playoffs\n",
    "    else:\n",
    "        for index in df.index:\n",
    "            if index < 10:\n",
    "                df.iloc[index,3] = int(1)\n",
    "    return(df)\n",
    "\n",
    "\n",
    "league_wins_losses = pd.DataFrame()\n",
    "for i in range(2023,2018, -1):\n",
    "    urlstandings = \"https://www.espn.com/nba/standings/_/season/\"+ str(i)\n",
    "    teams_east = pd.read_html(urlstandings)[0]\n",
    "    stats_east = pd.read_html(urlstandings)[1]\n",
    "    teams_west = pd.read_html(urlstandings)[2]\n",
    "    stats_west = pd.read_html(urlstandings)[3]\n",
    "    teams_east = clean_teams(teams_east, stats_east)\n",
    "    teams_east = add_playoff_status(teams_east, i)\n",
    "    teams_west = clean_teams(teams_west, stats_west)\n",
    "    teams_west = add_playoff_status(teams_west, i)\n",
    "    df_win_loss = pd.concat([teams_east, teams_west], ignore_index = True)\n",
    "    df_win_loss['Team'] = str(i) + \" \" + df_win_loss['Team'].astype(str)\n",
    "    league_wins_losses = pd.concat([league_wins_losses, df_win_loss], ignore_index = True)\n",
    "league_wins_losses"
   ]
  },
  {
   "cell_type": "code",
   "execution_count": null,
   "id": "1a720cef",
   "metadata": {},
   "outputs": [],
   "source": [
    "fullnbastats = pd.merge(league_wins_losses, nbateamstats, on=\"Team\")\n",
    "fullnbastats = fullnbastats.drop(['RK'], axis=1)\n",
    "fullnbastats"
   ]
  },
  {
   "cell_type": "code",
   "execution_count": null,
   "id": "a8b74b2d",
   "metadata": {},
   "outputs": [],
   "source": [
    "nbaefficiencystats = pd.DataFrame()\n",
    "for year in range(2023,2018, -1):\n",
    "    efficiencyurl = \"http://www.espn.com/nba/hollinger/teamstats/_/sort/defensiveEff/year/\"+ str(year)\n",
    "    efficiencystats = pd.read_html(efficiencyurl)[0].iloc[1: , 1:]\n",
    "    efficiencystats = pd.DataFrame(efficiencystats.values[1:], columns=efficiencystats.iloc[0])\n",
    "    for i in range(0, len(efficiencystats.iloc[:,0])):\n",
    "        for teamname in nbateams:\n",
    "            if efficiencystats.iloc[:,0][i] == \"LA Lakers\":\n",
    "                efficiencystats.iloc[:,0][i] = \"Los Angeles Lakers\"\n",
    "                break\n",
    "            if efficiencystats.iloc[:,0][i] in teamname:\n",
    "                efficiencystats.iloc[:,0][i] = teamname\n",
    "                break\n",
    "            else:\n",
    "                continue\n",
    "    efficiencystats = efficiencystats.rename(columns = {\"TEAM\": \"Team\"})\n",
    "    efficiencystats['Team'] = str(year) + \" \" + efficiencystats['Team'].astype(str)\n",
    "    efficiencystats = efficiencystats[[\"Team\", \"PACE\", \"EFF FG%\", \"OFF EFF\", \"DEF EFF\"]]\n",
    "    nbaefficiencystats = pd.concat([nbaefficiencystats, efficiencystats], ignore_index = True)\n",
    "nbaefficiencystats"
   ]
  },
  {
   "cell_type": "code",
   "execution_count": null,
   "id": "2acabed8",
   "metadata": {},
   "outputs": [],
   "source": [
    "fullnbastats = pd.merge(fullnbastats, nbaefficiencystats, on=\"Team\")\n",
    "fullnbastats"
   ]
  },
  {
   "cell_type": "code",
   "execution_count": null,
   "id": "4d0b38dd",
   "metadata": {},
   "outputs": [],
   "source": [
    "fullnbastats[\"PACE\"] = fullnbastats[\"PACE\"].astype(float)\n",
    "fullnbastats[\"EFF FG%\"] = fullnbastats[\"EFF FG%\"].astype(float)\n",
    "fullnbastats[\"OFF EFF\"] = fullnbastats[\"OFF EFF\"].astype(float)\n",
    "fullnbastats[\"DEF EFF\"] = fullnbastats[\"DEF EFF\"].astype(float)\n",
    "kingsfullstats_5years = fullnbastats[fullnbastats['Team'].str.contains('Kings')]\n",
    "kingsindex = fullnbastats[fullnbastats['Team'] == '2023 Sacramento Kings'].index"
   ]
  },
  {
   "cell_type": "markdown",
   "id": "c04acb9c",
   "metadata": {},
   "source": [
    "## Plotting NBA Comparisons"
   ]
  },
  {
   "cell_type": "code",
   "execution_count": null,
   "id": "1c0194ce",
   "metadata": {},
   "outputs": [],
   "source": [
    "def comparison_plot(df, index1, index2, xloc, yloc):\n",
    "    groups = df.groupby(\"Made Playoffs\")\n",
    "    plt.figure(figsize=(10, 10))\n",
    "    for name, group in groups:\n",
    "        if name == 0:\n",
    "            name = \"Did Not Make Playoffs\"\n",
    "            playoffcolor = 'crimson'\n",
    "        else:\n",
    "            name = \"Made Playoffs\"\n",
    "            playoffcolor = 'royalblue'\n",
    "        plt.plot(group.iloc[:,index1], group.iloc[:,index2], marker=\".\", linestyle=\"\", label=name, color = playoffcolor)\n",
    "    plt.legend()\n",
    "    plt.plot(kingsfullstats_5years.iloc[:,index1], kingsfullstats_5years.iloc[:,index2], linestyle='none', marker = 'o', color ='darkorchid')\n",
    "    plt.annotate('Sacramento Kings 2022-23', \n",
    "             xy=(df.iloc[kingsindex,index1], df.iloc[kingsindex,index2]), \n",
    "             xytext=(df.iloc[kingsindex,index1] + xloc, df.iloc[kingsindex,index2] + yloc),\n",
    "             arrowprops=dict(facecolor='black', shrink=0.05))\n",
    "    plt.axvline(mean(fullnbastats.iloc[:,index1]), color='k', linestyle='dashed')\n",
    "    plt.axhline(mean(fullnbastats.iloc[:,index2]), color='k', linestyle='dashed')\n",
    "    \n",
    "comparison_plot(fullnbastats, fullnbastats.columns.get_loc(\"OFF EFF\"), fullnbastats.columns.get_loc(\"DEF EFF\"), -0.5, 1.5)\n",
    "plt.xlabel(\"Offensive Efficiency (Pts Scored/100 Poss)\")\n",
    "plt.ylabel(\"Defensive Efficiency (Pts Allowed/100 Poss)\")\n",
    "plt.title(\"Offensive vs Defensive Efficiency in NBA 2018-2023\")\n",
    "plt.show()"
   ]
  },
  {
   "cell_type": "code",
   "execution_count": null,
   "id": "d5ed8023",
   "metadata": {},
   "outputs": [],
   "source": [
    "comparison_plot(fullnbastats, fullnbastats.columns.get_loc(\"AST\"), fullnbastats.columns.get_loc(\"TO\"), -2, 1.5)\n",
    "plt.xlabel(\"Assists Per Game\")\n",
    "plt.ylabel(\"Turnovers Per Game\")\n",
    "plt.title(\"Assists vs Turnovers in NBA 2018-2023\")\n",
    "plt.show()"
   ]
  },
  {
   "cell_type": "code",
   "execution_count": null,
   "id": "a1f2a8cd",
   "metadata": {},
   "outputs": [],
   "source": [
    "comparison_plot(fullnbastats, fullnbastats.columns.get_loc(\"OR\"), fullnbastats.columns.get_loc(\"DR\"), 0, -0.75)\n",
    "plt.xlabel(\"Offensive Rebounds Per Game\")\n",
    "plt.ylabel(\"Defensive Rebounds Per Game\")\n",
    "plt.title(\"Offensive vs Defensive Rebounds in NBA 2018-2023\")\n",
    "plt.show()"
   ]
  },
  {
   "cell_type": "code",
   "execution_count": null,
   "id": "570d5698",
   "metadata": {},
   "outputs": [],
   "source": [
    "comparison_plot(fullnbastats, fullnbastats.columns.get_loc(\"EFF FG%\"), fullnbastats.columns.get_loc(\"PACE\"), -2.25, 1)\n",
    "plt.xlabel(\"Effective Field Goal Percentage Per Game\")\n",
    "plt.ylabel(\"Pace Per Game\")\n",
    "plt.title(\"Effective Field Goal Percentage vs Pace in NBA 2018-2023\")\n",
    "plt.show()"
   ]
  },
  {
   "cell_type": "markdown",
   "id": "4eea2c82",
   "metadata": {},
   "source": [
    "## Classification"
   ]
  },
  {
   "cell_type": "code",
   "execution_count": null,
   "id": "24385e8b",
   "metadata": {},
   "outputs": [],
   "source": [
    "import matplotlib.pyplot as plt\n",
    "import numpy as np\n",
    "from sklearn.linear_model import LogisticRegression\n",
    "from sklearn.metrics import classification_report, confusion_matrix\n",
    "from sklearn.model_selection import train_test_split\n",
    "fullnbastats['Win %'] = fullnbastats['W'] / fullnbastats['GP']\n",
    "fullnbastats"
   ]
  },
  {
   "cell_type": "code",
   "execution_count": null,
   "id": "1e265097",
   "metadata": {},
   "outputs": [],
   "source": [
    "x = fullnbastats[30:].drop(columns = ['Made Playoffs', 'Team', 'FGM', 'FGA', '3PM', '3PA', 'FTM', 'FTA', 'EFF FG%', 'W', 'L', \"GP\"])\n",
    "x"
   ]
  },
  {
   "cell_type": "code",
   "execution_count": null,
   "id": "60abd592",
   "metadata": {},
   "outputs": [],
   "source": [
    "y= fullnbastats[\"Made Playoffs\"][30:]\n",
    "y"
   ]
  },
  {
   "cell_type": "markdown",
   "id": "33b2566e",
   "metadata": {},
   "source": [
    "x = fullnbastats[30:][['GP', 'PTS', 'FG%', '3P%','FT%', 'OR', 'DR', 'REB', 'AST', 'STL', 'BLK', 'TO', 'PF', 'PACE',\n",
    "       'EFF FG%', 'OFF EFF', 'DEF EFF']]\n",
    "from statsmodels.stats.outliers_influence import variance_inflation_factor\n",
    "vif = pd.DataFrame()\n",
    "vif[\"VIF Factor\"] = [variance_inflation_factor(x.values, i) for i in range(x.shape[1])]\n",
    "vif[\"features\"] = x.columns\n",
    "vif.round(1)\n",
    "#lower VIF factor values means less multicollinearity"
   ]
  },
  {
   "cell_type": "code",
   "execution_count": null,
   "id": "19acb179",
   "metadata": {},
   "outputs": [],
   "source": [
    "x_train, x_test, y_train, y_test = train_test_split(x, y, test_size=0.33, random_state=42)"
   ]
  },
  {
   "cell_type": "code",
   "execution_count": null,
   "id": "e1898dbc",
   "metadata": {},
   "outputs": [],
   "source": [
    "model = LogisticRegression(solver='liblinear', C = 1, random_state=0, max_iter = 1000)\n",
    "model.fit(x_train, y_train)\n",
    "model.classes_\n",
    "model.intercept_\n",
    "model.coef_\n",
    "model.predict_proba(x_test)\n",
    "model.predict(x_test)\n",
    "model.score(x_test, y_test)\n",
    "#confusion_matrix(y_test, model.predict(x_test))"
   ]
  },
  {
   "cell_type": "code",
   "execution_count": null,
   "id": "a320ea20",
   "metadata": {},
   "outputs": [],
   "source": [
    "cm = confusion_matrix(y_test, model.predict(x_test))\n",
    "\n",
    "fig, ax = plt.subplots(figsize=(8, 8))\n",
    "ax.imshow(cm)\n",
    "ax.grid(False)\n",
    "ax.xaxis.set(ticks=(0, 1), ticklabels=('Predicted Team Did Not Make Playoffs', 'Predicted Team Make Playoffs'))\n",
    "ax.yaxis.set(ticks=(0, 1), ticklabels=('Actual Team Did Not Make Playoffs', 'Actual Team Make Playoffs'))\n",
    "ax.set_ylim(1.5, -0.5)\n",
    "for i in range(2):\n",
    "    for j in range(2):\n",
    "        ax.text(j, i, cm[i, j], ha='center', va='center', color = 'cyan')\n",
    "plt.show()"
   ]
  },
  {
   "cell_type": "code",
   "execution_count": null,
   "id": "69ee3849",
   "metadata": {},
   "outputs": [],
   "source": [
    "import seaborn as sn\n",
    "import pandas as pd\n",
    "import matplotlib.pyplot as plt\n",
    "array = [[13,1,1,0,2,0],\n",
    "         [3,9,6,0,1,0],\n",
    "         [0,0,16,2,0,0],\n",
    "         [0,0,0,13,0,0],\n",
    "         [0,0,0,0,15,0],\n",
    "         [0,0,1,0,0,15]]\n",
    "df_cm = pd.DataFrame(cm, ['No Playoffs', 'Playoffs'], ['Predicted No Playoffs', 'Predicted Playoffs'])\n",
    "plt.figure(figsize=(8,8))\n",
    "sn.set(font_scale=1.4) # for label size\n",
    "sn.heatmap(df_cm, annot=True, annot_kws={\"size\": 16}) # font size\n",
    "plt.show()"
   ]
  },
  {
   "cell_type": "code",
   "execution_count": null,
   "id": "18ca92a1",
   "metadata": {},
   "outputs": [],
   "source": [
    "print(classification_report(y_test, model.predict(x_test)))\n",
    "kingsfullnbastats23 = fullnbastats[fullnbastats['Team'] == '2023 Sacramento Kings'].drop(columns = ['Made Playoffs', 'Team', 'FGM', 'FGA', '3PM', '3PA', 'FTM', 'FTA', 'EFF FG%', 'L', 'W','GP'])\n",
    "#kingsfullnbastats23 = fullnbastats[0:30].drop(columns = ['Made Playoffs', 'Team', 'FGM', 'FGA', '3PM', '3PA', 'FTM', 'FTA', 'EFF FG%', 'W', 'L', 'GP'])\n",
    "kingsfullnbastats23"
   ]
  },
  {
   "cell_type": "markdown",
   "id": "80cdfd1a",
   "metadata": {},
   "source": [
    "## Results"
   ]
  },
  {
   "cell_type": "code",
   "execution_count": null,
   "id": "8ed995e4",
   "metadata": {},
   "outputs": [],
   "source": [
    "model.predict_proba(kingsfullnbastats23)\n",
    "model.predict(kingsfullnbastats23)"
   ]
  },
  {
   "cell_type": "code",
   "execution_count": null,
   "id": "e8961a48",
   "metadata": {},
   "outputs": [],
   "source": [
    "model.predict_proba(kingsfullnbastats23)"
   ]
  },
  {
   "cell_type": "code",
   "execution_count": null,
   "id": "6a7d68f5",
   "metadata": {},
   "outputs": [],
   "source": [
    "#Dataframes available:\n",
    "kings_stats\n",
    "kings_shoot_stats\n",
    "kings_salary\n",
    "nbateams\n",
    "kings_final_df\n",
    "league_wins_losses\n",
    "nbateamstats\n",
    "nbaefficiencystats\n",
    "fullnbastats"
   ]
  },
  {
   "cell_type": "code",
   "execution_count": null,
   "id": "a913015a",
   "metadata": {},
   "outputs": [],
   "source": [
    "%store kings_final_df\n"
   ]
  }
 ],
 "metadata": {
  "kernelspec": {
   "display_name": "Python 3 (ipykernel)",
   "language": "python",
   "name": "python3"
  },
  "language_info": {
   "codemirror_mode": {
    "name": "ipython",
    "version": 3
   },
   "file_extension": ".py",
   "mimetype": "text/x-python",
   "name": "python",
   "nbconvert_exporter": "python",
   "pygments_lexer": "ipython3",
   "version": "3.9.12"
  }
 },
 "nbformat": 4,
 "nbformat_minor": 5
}
